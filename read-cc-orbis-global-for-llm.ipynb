{
 "cells": [
  {
   "cell_type": "code",
   "execution_count": 1,
   "id": "8f047357",
   "metadata": {
    "scrolled": false
   },
   "outputs": [],
   "source": [
    "%%capture\n",
    "!pip install packaging -U\n",
    "!pip install awswrangler swifter[notebook]\n",
    "!pip install --upgrade s3fs"
   ]
  },
  {
   "cell_type": "code",
   "execution_count": 2,
   "id": "0eb559fb",
   "metadata": {
    "scrolled": true
   },
   "outputs": [
    {
     "name": "stderr",
     "output_type": "stream",
     "text": [
      "/home/ec2-user/anaconda3/envs/python3/lib/python3.10/site-packages/dask/array/chunk_types.py:131: UserWarning: A NumPy version >=1.23.5 and <2.3.0 is required for this version of SciPy (detected version 1.22.4)\n",
      "  import scipy.sparse\n"
     ]
    }
   ],
   "source": [
    "import awswrangler as wr\n",
    "import pandas as pd\n",
    "import swifter\n",
    "import pyarrow as pa\n",
    "import dask.dataframe as dd\n",
    "from collections.abc import Iterable\n",
    "import numpy as np"
   ]
  },
  {
   "cell_type": "code",
   "execution_count": 3,
   "id": "d7b7d14d",
   "metadata": {
    "scrolled": true
   },
   "outputs": [
    {
     "data": {
      "text/plain": [
       "url: string\n",
       "url_host_name: string\n",
       "url_host_registered_domain: string\n",
       "url_host_tld: string\n",
       "fetch_time: timestamp[s]\n",
       "content_digest: string\n",
       "crawl: string\n",
       "content_languages: string\n",
       "partition: int8\n",
       "keyword_paragraphs: list<item: string>\n",
       "  child 0, item: string"
      ]
     },
     "execution_count": 3,
     "metadata": {},
     "output_type": "execute_result"
    }
   ],
   "source": [
    "# schema = pa.parquet.read_schema('s3://cc-download-orbis-global/res/res-2020-05/res/batch_n_0.parquet')\n",
    "# schema\n",
    "schema = pa.schema([\n",
    "    ('url', pa.string()),\n",
    "    ('url_host_name', pa.string()),\n",
    "    ('url_host_registered_domain', pa.string()),\n",
    "    ('url_host_tld', pa.string()),\n",
    "    ('fetch_time', pa.timestamp('s')),\n",
    "    ('content_digest', pa.string()),\n",
    "    ('crawl', pa.string()),\n",
    "    ('content_languages', pa.string()),\n",
    "    ('partition', pa.int8()),\n",
    "    ('keyword_paragraphs', pa.list_(pa.string())),\n",
    "])\n",
    "schema"
   ]
  },
  {
   "cell_type": "code",
   "execution_count": 4,
   "id": "5b7a6248",
   "metadata": {
    "scrolled": true
   },
   "outputs": [
    {
     "name": "stdout",
     "output_type": "stream",
     "text": [
      "CPU times: user 36min 59s, sys: 9min 15s, total: 46min 15s\n",
      "Wall time: 33min 40s\n"
     ]
    }
   ],
   "source": [
    "%%time\n",
    "df = wr.s3.read_parquet('s3://cc-download-orbis-global/res/',\n",
    "                        ray_args={'bulk_read': True}, schema=schema) #, dtype_backend='pyarrow'"
   ]
  },
  {
   "cell_type": "code",
   "execution_count": 4,
   "id": "79ac513e",
   "metadata": {},
   "outputs": [],
   "source": [
    "df.drop(columns=['url', 'url_host_name', 'url_host_tld', 'fetch_time', 'content_digest', 'content_languages', \n",
    "                 'partition'], inplace=True)"
   ]
  },
  {
   "cell_type": "code",
   "execution_count": null,
   "id": "69a0f6ce",
   "metadata": {},
   "outputs": [],
   "source": [
    "df.url_host_registered_domain = df.url_host_registered_domain.astype('category')"
   ]
  },
  {
   "cell_type": "code",
   "execution_count": 13,
   "id": "74d94dad",
   "metadata": {},
   "outputs": [],
   "source": [
    "# paragraphs = df.keyword_paragraphs.explode().dropna().drop_duplicates()\n",
    "# paragraphs = paragraphs[paragraphs.str.len()>=30]\n",
    "# paragraphs = paragraphs.str[:20000]\n",
    "# paragraphs = paragraphs.rename('paragraphs').to_frame()"
   ]
  },
  {
   "cell_type": "code",
   "execution_count": 9,
   "id": "38cbc281",
   "metadata": {
    "scrolled": false
   },
   "outputs": [
    {
     "data": {
      "text/plain": [
       "50845309"
      ]
     },
     "execution_count": 9,
     "metadata": {},
     "output_type": "execute_result"
    }
   ],
   "source": [
    "# len(paragraphs) # 50 million paragraphs"
   ]
  },
  {
   "cell_type": "code",
   "execution_count": 14,
   "id": "55989bed",
   "metadata": {
    "collapsed": true
   },
   "outputs": [
    {
     "data": {
      "text/plain": [
       "{'paths': ['s3://cc-download-orbis-global/res_paragraphs_input_llm/48af8983d5ff418c89b01bf5796ca507_4853.snappy.parquet',\n",
       "  's3://cc-download-orbis-global/res_paragraphs_input_llm/48af8983d5ff418c89b01bf5796ca507_3698.snappy.parquet',\n",
       "  's3://cc-download-orbis-global/res_paragraphs_input_llm/48af8983d5ff418c89b01bf5796ca507_4900.snappy.parquet',\n",
       "  's3://cc-download-orbis-global/res_paragraphs_input_llm/48af8983d5ff418c89b01bf5796ca507_4868.snappy.parquet',\n",
       "  's3://cc-download-orbis-global/res_paragraphs_input_llm/48af8983d5ff418c89b01bf5796ca507_3792.snappy.parquet',\n",
       "  's3://cc-download-orbis-global/res_paragraphs_input_llm/48af8983d5ff418c89b01bf5796ca507_4730.snappy.parquet',\n",
       "  's3://cc-download-orbis-global/res_paragraphs_input_llm/48af8983d5ff418c89b01bf5796ca507_4364.snappy.parquet',\n",
       "  's3://cc-download-orbis-global/res_paragraphs_input_llm/48af8983d5ff418c89b01bf5796ca507_4916.snappy.parquet',\n",
       "  's3://cc-download-orbis-global/res_paragraphs_input_llm/48af8983d5ff418c89b01bf5796ca507_4516.snappy.parquet',\n",
       "  's3://cc-download-orbis-global/res_paragraphs_input_llm/48af8983d5ff418c89b01bf5796ca507_4356.snappy.parquet',\n",
       "  's3://cc-download-orbis-global/res_paragraphs_input_llm/48af8983d5ff418c89b01bf5796ca507_4710.snappy.parquet',\n",
       "  's3://cc-download-orbis-global/res_paragraphs_input_llm/48af8983d5ff418c89b01bf5796ca507_4841.snappy.parquet',\n",
       "  's3://cc-download-orbis-global/res_paragraphs_input_llm/48af8983d5ff418c89b01bf5796ca507_4131.snappy.parquet',\n",
       "  's3://cc-download-orbis-global/res_paragraphs_input_llm/48af8983d5ff418c89b01bf5796ca507_3791.snappy.parquet',\n",
       "  's3://cc-download-orbis-global/res_paragraphs_input_llm/48af8983d5ff418c89b01bf5796ca507_4849.snappy.parquet',\n",
       "  's3://cc-download-orbis-global/res_paragraphs_input_llm/48af8983d5ff418c89b01bf5796ca507_4670.snappy.parquet',\n",
       "  's3://cc-download-orbis-global/res_paragraphs_input_llm/48af8983d5ff418c89b01bf5796ca507_4861.snappy.parquet',\n",
       "  's3://cc-download-orbis-global/res_paragraphs_input_llm/48af8983d5ff418c89b01bf5796ca507_4677.snappy.parquet',\n",
       "  's3://cc-download-orbis-global/res_paragraphs_input_llm/48af8983d5ff418c89b01bf5796ca507_4703.snappy.parquet',\n",
       "  's3://cc-download-orbis-global/res_paragraphs_input_llm/48af8983d5ff418c89b01bf5796ca507_4764.snappy.parquet',\n",
       "  's3://cc-download-orbis-global/res_paragraphs_input_llm/48af8983d5ff418c89b01bf5796ca507_4848.snappy.parquet',\n",
       "  's3://cc-download-orbis-global/res_paragraphs_input_llm/48af8983d5ff418c89b01bf5796ca507_4747.snappy.parquet',\n",
       "  's3://cc-download-orbis-global/res_paragraphs_input_llm/48af8983d5ff418c89b01bf5796ca507_3834.snappy.parquet',\n",
       "  's3://cc-download-orbis-global/res_paragraphs_input_llm/48af8983d5ff418c89b01bf5796ca507_4365.snappy.parquet',\n",
       "  's3://cc-download-orbis-global/res_paragraphs_input_llm/48af8983d5ff418c89b01bf5796ca507_4121.snappy.parquet',\n",
       "  's3://cc-download-orbis-global/res_paragraphs_input_llm/48af8983d5ff418c89b01bf5796ca507_3606.snappy.parquet',\n",
       "  's3://cc-download-orbis-global/res_paragraphs_input_llm/48af8983d5ff418c89b01bf5796ca507_4886.snappy.parquet',\n",
       "  's3://cc-download-orbis-global/res_paragraphs_input_llm/48af8983d5ff418c89b01bf5796ca507_3540.snappy.parquet',\n",
       "  's3://cc-download-orbis-global/res_paragraphs_input_llm/48af8983d5ff418c89b01bf5796ca507_4654.snappy.parquet',\n",
       "  's3://cc-download-orbis-global/res_paragraphs_input_llm/48af8983d5ff418c89b01bf5796ca507_4959.snappy.parquet',\n",
       "  's3://cc-download-orbis-global/res_paragraphs_input_llm/48af8983d5ff418c89b01bf5796ca507_3527.snappy.parquet',\n",
       "  's3://cc-download-orbis-global/res_paragraphs_input_llm/48af8983d5ff418c89b01bf5796ca507_4648.snappy.parquet',\n",
       "  's3://cc-download-orbis-global/res_paragraphs_input_llm/48af8983d5ff418c89b01bf5796ca507_4725.snappy.parquet',\n",
       "  's3://cc-download-orbis-global/res_paragraphs_input_llm/48af8983d5ff418c89b01bf5796ca507_4441.snappy.parquet',\n",
       "  's3://cc-download-orbis-global/res_paragraphs_input_llm/48af8983d5ff418c89b01bf5796ca507_3803.snappy.parquet',\n",
       "  's3://cc-download-orbis-global/res_paragraphs_input_llm/48af8983d5ff418c89b01bf5796ca507_4701.snappy.parquet',\n",
       "  's3://cc-download-orbis-global/res_paragraphs_input_llm/48af8983d5ff418c89b01bf5796ca507_4714.snappy.parquet',\n",
       "  's3://cc-download-orbis-global/res_paragraphs_input_llm/48af8983d5ff418c89b01bf5796ca507_4738.snappy.parquet',\n",
       "  's3://cc-download-orbis-global/res_paragraphs_input_llm/48af8983d5ff418c89b01bf5796ca507_4808.snappy.parquet',\n",
       "  's3://cc-download-orbis-global/res_paragraphs_input_llm/48af8983d5ff418c89b01bf5796ca507_4620.snappy.parquet',\n",
       "  's3://cc-download-orbis-global/res_paragraphs_input_llm/48af8983d5ff418c89b01bf5796ca507_4843.snappy.parquet',\n",
       "  's3://cc-download-orbis-global/res_paragraphs_input_llm/48af8983d5ff418c89b01bf5796ca507_4777.snappy.parquet',\n",
       "  's3://cc-download-orbis-global/res_paragraphs_input_llm/48af8983d5ff418c89b01bf5796ca507_4605.snappy.parquet',\n",
       "  's3://cc-download-orbis-global/res_paragraphs_input_llm/48af8983d5ff418c89b01bf5796ca507_4700.snappy.parquet',\n",
       "  's3://cc-download-orbis-global/res_paragraphs_input_llm/48af8983d5ff418c89b01bf5796ca507_4353.snappy.parquet',\n",
       "  's3://cc-download-orbis-global/res_paragraphs_input_llm/48af8983d5ff418c89b01bf5796ca507_3802.snappy.parquet',\n",
       "  's3://cc-download-orbis-global/res_paragraphs_input_llm/48af8983d5ff418c89b01bf5796ca507_3804.snappy.parquet',\n",
       "  's3://cc-download-orbis-global/res_paragraphs_input_llm/48af8983d5ff418c89b01bf5796ca507_4442.snappy.parquet',\n",
       "  's3://cc-download-orbis-global/res_paragraphs_input_llm/48af8983d5ff418c89b01bf5796ca507_4860.snappy.parquet',\n",
       "  's3://cc-download-orbis-global/res_paragraphs_input_llm/48af8983d5ff418c89b01bf5796ca507_4852.snappy.parquet',\n",
       "  's3://cc-download-orbis-global/res_paragraphs_input_llm/48af8983d5ff418c89b01bf5796ca507_4842.snappy.parquet',\n",
       "  's3://cc-download-orbis-global/res_paragraphs_input_llm/48af8983d5ff418c89b01bf5796ca507_3379.snappy.parquet',\n",
       "  's3://cc-download-orbis-global/res_paragraphs_input_llm/48af8983d5ff418c89b01bf5796ca507_3836.snappy.parquet',\n",
       "  's3://cc-download-orbis-global/res_paragraphs_input_llm/48af8983d5ff418c89b01bf5796ca507_2302.snappy.parquet',\n",
       "  's3://cc-download-orbis-global/res_paragraphs_input_llm/48af8983d5ff418c89b01bf5796ca507_3097.snappy.parquet',\n",
       "  's3://cc-download-orbis-global/res_paragraphs_input_llm/48af8983d5ff418c89b01bf5796ca507_1692.snappy.parquet',\n",
       "  's3://cc-download-orbis-global/res_paragraphs_input_llm/48af8983d5ff418c89b01bf5796ca507_1491.snappy.parquet',\n",
       "  's3://cc-download-orbis-global/res_paragraphs_input_llm/48af8983d5ff418c89b01bf5796ca507_4210.snappy.parquet',\n",
       "  's3://cc-download-orbis-global/res_paragraphs_input_llm/48af8983d5ff418c89b01bf5796ca507_2911.snappy.parquet',\n",
       "  's3://cc-download-orbis-global/res_paragraphs_input_llm/48af8983d5ff418c89b01bf5796ca507_2979.snappy.parquet',\n",
       "  's3://cc-download-orbis-global/res_paragraphs_input_llm/48af8983d5ff418c89b01bf5796ca507_3220.snappy.parquet',\n",
       "  's3://cc-download-orbis-global/res_paragraphs_input_llm/48af8983d5ff418c89b01bf5796ca507_3838.snappy.parquet',\n",
       "  's3://cc-download-orbis-global/res_paragraphs_input_llm/48af8983d5ff418c89b01bf5796ca507_1213.snappy.parquet',\n",
       "  's3://cc-download-orbis-global/res_paragraphs_input_llm/48af8983d5ff418c89b01bf5796ca507_3603.snappy.parquet',\n",
       "  's3://cc-download-orbis-global/res_paragraphs_input_llm/48af8983d5ff418c89b01bf5796ca507_1914.snappy.parquet',\n",
       "  's3://cc-download-orbis-global/res_paragraphs_input_llm/48af8983d5ff418c89b01bf5796ca507_4223.snappy.parquet',\n",
       "  's3://cc-download-orbis-global/res_paragraphs_input_llm/48af8983d5ff418c89b01bf5796ca507_3652.snappy.parquet',\n",
       "  's3://cc-download-orbis-global/res_paragraphs_input_llm/48af8983d5ff418c89b01bf5796ca507_3624.snappy.parquet',\n",
       "  's3://cc-download-orbis-global/res_paragraphs_input_llm/48af8983d5ff418c89b01bf5796ca507_1693.snappy.parquet',\n",
       "  's3://cc-download-orbis-global/res_paragraphs_input_llm/48af8983d5ff418c89b01bf5796ca507_4024.snappy.parquet',\n",
       "  's3://cc-download-orbis-global/res_paragraphs_input_llm/48af8983d5ff418c89b01bf5796ca507_3418.snappy.parquet',\n",
       "  's3://cc-download-orbis-global/res_paragraphs_input_llm/48af8983d5ff418c89b01bf5796ca507_4312.snappy.parquet',\n",
       "  's3://cc-download-orbis-global/res_paragraphs_input_llm/48af8983d5ff418c89b01bf5796ca507_2368.snappy.parquet',\n",
       "  's3://cc-download-orbis-global/res_paragraphs_input_llm/48af8983d5ff418c89b01bf5796ca507_2301.snappy.parquet',\n",
       "  's3://cc-download-orbis-global/res_paragraphs_input_llm/48af8983d5ff418c89b01bf5796ca507_3630.snappy.parquet',\n",
       "  's3://cc-download-orbis-global/res_paragraphs_input_llm/48af8983d5ff418c89b01bf5796ca507_3844.snappy.parquet',\n",
       "  's3://cc-download-orbis-global/res_paragraphs_input_llm/48af8983d5ff418c89b01bf5796ca507_2951.snappy.parquet',\n",
       "  's3://cc-download-orbis-global/res_paragraphs_input_llm/48af8983d5ff418c89b01bf5796ca507_3490.snappy.parquet',\n",
       "  's3://cc-download-orbis-global/res_paragraphs_input_llm/48af8983d5ff418c89b01bf5796ca507_3356.snappy.parquet',\n",
       "  's3://cc-download-orbis-global/res_paragraphs_input_llm/48af8983d5ff418c89b01bf5796ca507_1717.snappy.parquet',\n",
       "  's3://cc-download-orbis-global/res_paragraphs_input_llm/48af8983d5ff418c89b01bf5796ca507_1388.snappy.parquet',\n",
       "  's3://cc-download-orbis-global/res_paragraphs_input_llm/48af8983d5ff418c89b01bf5796ca507_4774.snappy.parquet',\n",
       "  's3://cc-download-orbis-global/res_paragraphs_input_llm/48af8983d5ff418c89b01bf5796ca507_3784.snappy.parquet',\n",
       "  's3://cc-download-orbis-global/res_paragraphs_input_llm/48af8983d5ff418c89b01bf5796ca507_2586.snappy.parquet',\n",
       "  's3://cc-download-orbis-global/res_paragraphs_input_llm/48af8983d5ff418c89b01bf5796ca507_4446.snappy.parquet',\n",
       "  's3://cc-download-orbis-global/res_paragraphs_input_llm/48af8983d5ff418c89b01bf5796ca507_1205.snappy.parquet',\n",
       "  's3://cc-download-orbis-global/res_paragraphs_input_llm/48af8983d5ff418c89b01bf5796ca507_4758.snappy.parquet',\n",
       "  's3://cc-download-orbis-global/res_paragraphs_input_llm/48af8983d5ff418c89b01bf5796ca507_3143.snappy.parquet',\n",
       "  's3://cc-download-orbis-global/res_paragraphs_input_llm/48af8983d5ff418c89b01bf5796ca507_2041.snappy.parquet',\n",
       "  's3://cc-download-orbis-global/res_paragraphs_input_llm/48af8983d5ff418c89b01bf5796ca507_3312.snappy.parquet',\n",
       "  's3://cc-download-orbis-global/res_paragraphs_input_llm/48af8983d5ff418c89b01bf5796ca507_4646.snappy.parquet',\n",
       "  's3://cc-download-orbis-global/res_paragraphs_input_llm/48af8983d5ff418c89b01bf5796ca507_3841.snappy.parquet',\n",
       "  's3://cc-download-orbis-global/res_paragraphs_input_llm/48af8983d5ff418c89b01bf5796ca507_4061.snappy.parquet',\n",
       "  's3://cc-download-orbis-global/res_paragraphs_input_llm/48af8983d5ff418c89b01bf5796ca507_841.snappy.parquet',\n",
       "  's3://cc-download-orbis-global/res_paragraphs_input_llm/48af8983d5ff418c89b01bf5796ca507_2180.snappy.parquet',\n",
       "  's3://cc-download-orbis-global/res_paragraphs_input_llm/48af8983d5ff418c89b01bf5796ca507_757.snappy.parquet',\n",
       "  's3://cc-download-orbis-global/res_paragraphs_input_llm/48af8983d5ff418c89b01bf5796ca507_2638.snappy.parquet',\n",
       "  's3://cc-download-orbis-global/res_paragraphs_input_llm/48af8983d5ff418c89b01bf5796ca507_3350.snappy.parquet',\n",
       "  's3://cc-download-orbis-global/res_paragraphs_input_llm/48af8983d5ff418c89b01bf5796ca507_3869.snappy.parquet',\n",
       "  's3://cc-download-orbis-global/res_paragraphs_input_llm/48af8983d5ff418c89b01bf5796ca507_4922.snappy.parquet',\n",
       "  's3://cc-download-orbis-global/res_paragraphs_input_llm/48af8983d5ff418c89b01bf5796ca507_3352.snappy.parquet',\n",
       "  's3://cc-download-orbis-global/res_paragraphs_input_llm/48af8983d5ff418c89b01bf5796ca507_1123.snappy.parquet',\n",
       "  's3://cc-download-orbis-global/res_paragraphs_input_llm/48af8983d5ff418c89b01bf5796ca507_4873.snappy.parquet',\n",
       "  's3://cc-download-orbis-global/res_paragraphs_input_llm/48af8983d5ff418c89b01bf5796ca507_3710.snappy.parquet',\n",
       "  's3://cc-download-orbis-global/res_paragraphs_input_llm/48af8983d5ff418c89b01bf5796ca507_3445.snappy.parquet',\n",
       "  's3://cc-download-orbis-global/res_paragraphs_input_llm/48af8983d5ff418c89b01bf5796ca507_3902.snappy.parquet',\n",
       "  's3://cc-download-orbis-global/res_paragraphs_input_llm/48af8983d5ff418c89b01bf5796ca507_2232.snappy.parquet',\n",
       "  's3://cc-download-orbis-global/res_paragraphs_input_llm/48af8983d5ff418c89b01bf5796ca507_1599.snappy.parquet',\n",
       "  's3://cc-download-orbis-global/res_paragraphs_input_llm/48af8983d5ff418c89b01bf5796ca507_2980.snappy.parquet',\n",
       "  's3://cc-download-orbis-global/res_paragraphs_input_llm/48af8983d5ff418c89b01bf5796ca507_2989.snappy.parquet',\n",
       "  's3://cc-download-orbis-global/res_paragraphs_input_llm/48af8983d5ff418c89b01bf5796ca507_3144.snappy.parquet',\n",
       "  's3://cc-download-orbis-global/res_paragraphs_input_llm/48af8983d5ff418c89b01bf5796ca507_2968.snappy.parquet',\n",
       "  's3://cc-download-orbis-global/res_paragraphs_input_llm/48af8983d5ff418c89b01bf5796ca507_2369.snappy.parquet',\n",
       "  's3://cc-download-orbis-global/res_paragraphs_input_llm/48af8983d5ff418c89b01bf5796ca507_2847.snappy.parquet',\n",
       "  's3://cc-download-orbis-global/res_paragraphs_input_llm/48af8983d5ff418c89b01bf5796ca507_2702.snappy.parquet',\n",
       "  's3://cc-download-orbis-global/res_paragraphs_input_llm/48af8983d5ff418c89b01bf5796ca507_1479.snappy.parquet',\n",
       "  's3://cc-download-orbis-global/res_paragraphs_input_llm/48af8983d5ff418c89b01bf5796ca507_4983.snappy.parquet',\n",
       "  's3://cc-download-orbis-global/res_paragraphs_input_llm/48af8983d5ff418c89b01bf5796ca507_3592.snappy.parquet',\n",
       "  's3://cc-download-orbis-global/res_paragraphs_input_llm/48af8983d5ff418c89b01bf5796ca507_2695.snappy.parquet',\n",
       "  's3://cc-download-orbis-global/res_paragraphs_input_llm/48af8983d5ff418c89b01bf5796ca507_1526.snappy.parquet',\n",
       "  's3://cc-download-orbis-global/res_paragraphs_input_llm/48af8983d5ff418c89b01bf5796ca507_3828.snappy.parquet',\n",
       "  's3://cc-download-orbis-global/res_paragraphs_input_llm/48af8983d5ff418c89b01bf5796ca507_3730.snappy.parquet',\n",
       "  's3://cc-download-orbis-global/res_paragraphs_input_llm/48af8983d5ff418c89b01bf5796ca507_1212.snappy.parquet',\n",
       "  's3://cc-download-orbis-global/res_paragraphs_input_llm/48af8983d5ff418c89b01bf5796ca507_2563.snappy.parquet',\n",
       "  's3://cc-download-orbis-global/res_paragraphs_input_llm/48af8983d5ff418c89b01bf5796ca507_1214.snappy.parquet',\n",
       "  's3://cc-download-orbis-global/res_paragraphs_input_llm/48af8983d5ff418c89b01bf5796ca507_1080.snappy.parquet',\n",
       "  's3://cc-download-orbis-global/res_paragraphs_input_llm/48af8983d5ff418c89b01bf5796ca507_4302.snappy.parquet',\n",
       "  's3://cc-download-orbis-global/res_paragraphs_input_llm/48af8983d5ff418c89b01bf5796ca507_2040.snappy.parquet',\n",
       "  's3://cc-download-orbis-global/res_paragraphs_input_llm/48af8983d5ff418c89b01bf5796ca507_3480.snappy.parquet',\n",
       "  's3://cc-download-orbis-global/res_paragraphs_input_llm/48af8983d5ff418c89b01bf5796ca507_1210.snappy.parquet',\n",
       "  's3://cc-download-orbis-global/res_paragraphs_input_llm/48af8983d5ff418c89b01bf5796ca507_834.snappy.parquet',\n",
       "  's3://cc-download-orbis-global/res_paragraphs_input_llm/48af8983d5ff418c89b01bf5796ca507_2596.snappy.parquet',\n",
       "  's3://cc-download-orbis-global/res_paragraphs_input_llm/48af8983d5ff418c89b01bf5796ca507_1124.snappy.parquet',\n",
       "  's3://cc-download-orbis-global/res_paragraphs_input_llm/48af8983d5ff418c89b01bf5796ca507_3006.snappy.parquet',\n",
       "  's3://cc-download-orbis-global/res_paragraphs_input_llm/48af8983d5ff418c89b01bf5796ca507_3717.snappy.parquet',\n",
       "  's3://cc-download-orbis-global/res_paragraphs_input_llm/48af8983d5ff418c89b01bf5796ca507_3301.snappy.parquet',\n",
       "  's3://cc-download-orbis-global/res_paragraphs_input_llm/48af8983d5ff418c89b01bf5796ca507_4238.snappy.parquet',\n",
       "  's3://cc-download-orbis-global/res_paragraphs_input_llm/48af8983d5ff418c89b01bf5796ca507_4445.snappy.parquet',\n",
       "  's3://cc-download-orbis-global/res_paragraphs_input_llm/48af8983d5ff418c89b01bf5796ca507_1154.snappy.parquet',\n",
       "  's3://cc-download-orbis-global/res_paragraphs_input_llm/48af8983d5ff418c89b01bf5796ca507_2212.snappy.parquet',\n",
       "  's3://cc-download-orbis-global/res_paragraphs_input_llm/48af8983d5ff418c89b01bf5796ca507_840.snappy.parquet',\n",
       "  's3://cc-download-orbis-global/res_paragraphs_input_llm/48af8983d5ff418c89b01bf5796ca507_4729.snappy.parquet',\n",
       "  's3://cc-download-orbis-global/res_paragraphs_input_llm/48af8983d5ff418c89b01bf5796ca507_4775.snappy.parquet',\n",
       "  's3://cc-download-orbis-global/res_paragraphs_input_llm/48af8983d5ff418c89b01bf5796ca507_2370.snappy.parquet',\n",
       "  's3://cc-download-orbis-global/res_paragraphs_input_llm/48af8983d5ff418c89b01bf5796ca507_1386.snappy.parquet',\n",
       "  's3://cc-download-orbis-global/res_paragraphs_input_llm/48af8983d5ff418c89b01bf5796ca507_1211.snappy.parquet',\n",
       "  's3://cc-download-orbis-global/res_paragraphs_input_llm/48af8983d5ff418c89b01bf5796ca507_2887.snappy.parquet',\n",
       "  's3://cc-download-orbis-global/res_paragraphs_input_llm/48af8983d5ff418c89b01bf5796ca507_1389.snappy.parquet',\n",
       "  's3://cc-download-orbis-global/res_paragraphs_input_llm/48af8983d5ff418c89b01bf5796ca507_1859.snappy.parquet',\n",
       "  's3://cc-download-orbis-global/res_paragraphs_input_llm/48af8983d5ff418c89b01bf5796ca507_4462.snappy.parquet',\n",
       "  's3://cc-download-orbis-global/res_paragraphs_input_llm/48af8983d5ff418c89b01bf5796ca507_3531.snappy.parquet',\n",
       "  's3://cc-download-orbis-global/res_paragraphs_input_llm/48af8983d5ff418c89b01bf5796ca507_3366.snappy.parquet',\n",
       "  's3://cc-download-orbis-global/res_paragraphs_input_llm/48af8983d5ff418c89b01bf5796ca507_3345.snappy.parquet',\n",
       "  's3://cc-download-orbis-global/res_paragraphs_input_llm/48af8983d5ff418c89b01bf5796ca507_3502.snappy.parquet',\n",
       "  's3://cc-download-orbis-global/res_paragraphs_input_llm/48af8983d5ff418c89b01bf5796ca507_3761.snappy.parquet',\n",
       "  's3://cc-download-orbis-global/res_paragraphs_input_llm/48af8983d5ff418c89b01bf5796ca507_4236.snappy.parquet',\n",
       "  's3://cc-download-orbis-global/res_paragraphs_input_llm/48af8983d5ff418c89b01bf5796ca507_2300.snappy.parquet',\n",
       "  's3://cc-download-orbis-global/res_paragraphs_input_llm/48af8983d5ff418c89b01bf5796ca507_3687.snappy.parquet',\n",
       "  's3://cc-download-orbis-global/res_paragraphs_input_llm/48af8983d5ff418c89b01bf5796ca507_1209.snappy.parquet',\n",
       "  's3://cc-download-orbis-global/res_paragraphs_input_llm/48af8983d5ff418c89b01bf5796ca507_2922.snappy.parquet',\n",
       "  's3://cc-download-orbis-global/res_paragraphs_input_llm/48af8983d5ff418c89b01bf5796ca507_4012.snappy.parquet',\n",
       "  's3://cc-download-orbis-global/res_paragraphs_input_llm/48af8983d5ff418c89b01bf5796ca507_1196.snappy.parquet',\n",
       "  's3://cc-download-orbis-global/res_paragraphs_input_llm/48af8983d5ff418c89b01bf5796ca507_1694.snappy.parquet',\n",
       "  's3://cc-download-orbis-global/res_paragraphs_input_llm/48af8983d5ff418c89b01bf5796ca507_3892.snappy.parquet',\n",
       "  's3://cc-download-orbis-global/res_paragraphs_input_llm/48af8983d5ff418c89b01bf5796ca507_2819.snappy.parquet',\n",
       "  's3://cc-download-orbis-global/res_paragraphs_input_llm/48af8983d5ff418c89b01bf5796ca507_3657.snappy.parquet',\n",
       "  's3://cc-download-orbis-global/res_paragraphs_input_llm/48af8983d5ff418c89b01bf5796ca507_2303.snappy.parquet',\n",
       "  's3://cc-download-orbis-global/res_paragraphs_input_llm/48af8983d5ff418c89b01bf5796ca507_1459.snappy.parquet',\n",
       "  's3://cc-download-orbis-global/res_paragraphs_input_llm/48af8983d5ff418c89b01bf5796ca507_3496.snappy.parquet',\n",
       "  's3://cc-download-orbis-global/res_paragraphs_input_llm/48af8983d5ff418c89b01bf5796ca507_4921.snappy.parquet',\n",
       "  's3://cc-download-orbis-global/res_paragraphs_input_llm/48af8983d5ff418c89b01bf5796ca507_4739.snappy.parquet',\n",
       "  's3://cc-download-orbis-global/res_paragraphs_input_llm/48af8983d5ff418c89b01bf5796ca507_3893.snappy.parquet',\n",
       "  's3://cc-download-orbis-global/res_paragraphs_input_llm/48af8983d5ff418c89b01bf5796ca507_4760.snappy.parquet',\n",
       "  's3://cc-download-orbis-global/res_paragraphs_input_llm/48af8983d5ff418c89b01bf5796ca507_1215.snappy.parquet',\n",
       "  's3://cc-download-orbis-global/res_paragraphs_input_llm/48af8983d5ff418c89b01bf5796ca507_2418.snappy.parquet',\n",
       "  's3://cc-download-orbis-global/res_paragraphs_input_llm/48af8983d5ff418c89b01bf5796ca507_1535.snappy.parquet',\n",
       "  's3://cc-download-orbis-global/res_paragraphs_input_llm/48af8983d5ff418c89b01bf5796ca507_3643.snappy.parquet',\n",
       "  's3://cc-download-orbis-global/res_paragraphs_input_llm/48af8983d5ff418c89b01bf5796ca507_1352.snappy.parquet',\n",
       "  's3://cc-download-orbis-global/res_paragraphs_input_llm/48af8983d5ff418c89b01bf5796ca507_3835.snappy.parquet',\n",
       "  's3://cc-download-orbis-global/res_paragraphs_input_llm/48af8983d5ff418c89b01bf5796ca507_4023.snappy.parquet',\n",
       "  's3://cc-download-orbis-global/res_paragraphs_input_llm/48af8983d5ff418c89b01bf5796ca507_4453.snappy.parquet',\n",
       "  's3://cc-download-orbis-global/res_paragraphs_input_llm/48af8983d5ff418c89b01bf5796ca507_3785.snappy.parquet',\n",
       "  's3://cc-download-orbis-global/res_paragraphs_input_llm/48af8983d5ff418c89b01bf5796ca507_1138.snappy.parquet',\n",
       "  's3://cc-download-orbis-global/res_paragraphs_input_llm/48af8983d5ff418c89b01bf5796ca507_2042.snappy.parquet',\n",
       "  's3://cc-download-orbis-global/res_paragraphs_input_llm/48af8983d5ff418c89b01bf5796ca507_3931.snappy.parquet',\n",
       "  's3://cc-download-orbis-global/res_paragraphs_input_llm/48af8983d5ff418c89b01bf5796ca507_4793.snappy.parquet',\n",
       "  's3://cc-download-orbis-global/res_paragraphs_input_llm/48af8983d5ff418c89b01bf5796ca507_2213.snappy.parquet',\n",
       "  's3://cc-download-orbis-global/res_paragraphs_input_llm/48af8983d5ff418c89b01bf5796ca507_1444.snappy.parquet',\n",
       "  's3://cc-download-orbis-global/res_paragraphs_input_llm/48af8983d5ff418c89b01bf5796ca507_4951.snappy.parquet',\n",
       "  's3://cc-download-orbis-global/res_paragraphs_input_llm/48af8983d5ff418c89b01bf5796ca507_1387.snappy.parquet',\n",
       "  's3://cc-download-orbis-global/res_paragraphs_input_llm/48af8983d5ff418c89b01bf5796ca507_1917.snappy.parquet',\n",
       "  's3://cc-download-orbis-global/res_paragraphs_input_llm/48af8983d5ff418c89b01bf5796ca507_4333.snappy.parquet',\n",
       "  's3://cc-download-orbis-global/res_paragraphs_input_llm/48af8983d5ff418c89b01bf5796ca507_3182.snappy.parquet',\n",
       "  's3://cc-download-orbis-global/res_paragraphs_input_llm/48af8983d5ff418c89b01bf5796ca507_3968.snappy.parquet',\n",
       "  's3://cc-download-orbis-global/res_paragraphs_input_llm/48af8983d5ff418c89b01bf5796ca507_2677.snappy.parquet',\n",
       "  's3://cc-download-orbis-global/res_paragraphs_input_llm/48af8983d5ff418c89b01bf5796ca507_2859.snappy.parquet',\n",
       "  's3://cc-download-orbis-global/res_paragraphs_input_llm/48af8983d5ff418c89b01bf5796ca507_1921.snappy.parquet',\n",
       "  's3://cc-download-orbis-global/res_paragraphs_input_llm/48af8983d5ff418c89b01bf5796ca507_3289.snappy.parquet',\n",
       "  's3://cc-download-orbis-global/res_paragraphs_input_llm/48af8983d5ff418c89b01bf5796ca507_3812.snappy.parquet',\n",
       "  's3://cc-download-orbis-global/res_paragraphs_input_llm/48af8983d5ff418c89b01bf5796ca507_2862.snappy.parquet',\n",
       "  's3://cc-download-orbis-global/res_paragraphs_input_llm/48af8983d5ff418c89b01bf5796ca507_3247.snappy.parquet',\n",
       "  's3://cc-download-orbis-global/res_paragraphs_input_llm/48af8983d5ff418c89b01bf5796ca507_1647.snappy.parquet',\n",
       "  's3://cc-download-orbis-global/res_paragraphs_input_llm/48af8983d5ff418c89b01bf5796ca507_3419.snappy.parquet',\n",
       "  's3://cc-download-orbis-global/res_paragraphs_input_llm/48af8983d5ff418c89b01bf5796ca507_833.snappy.parquet',\n",
       "  's3://cc-download-orbis-global/res_paragraphs_input_llm/48af8983d5ff418c89b01bf5796ca507_4484.snappy.parquet',\n",
       "  's3://cc-download-orbis-global/res_paragraphs_input_llm/48af8983d5ff418c89b01bf5796ca507_4017.snappy.parquet',\n",
       "  's3://cc-download-orbis-global/res_paragraphs_input_llm/48af8983d5ff418c89b01bf5796ca507_2145.snappy.parquet',\n",
       "  's3://cc-download-orbis-global/res_paragraphs_input_llm/48af8983d5ff418c89b01bf5796ca507_1603.snappy.parquet',\n",
       "  's3://cc-download-orbis-global/res_paragraphs_input_llm/48af8983d5ff418c89b01bf5796ca507_2521.snappy.parquet',\n",
       "  's3://cc-download-orbis-global/res_paragraphs_input_llm/48af8983d5ff418c89b01bf5796ca507_2978.snappy.parquet',\n",
       "  's3://cc-download-orbis-global/res_paragraphs_input_llm/48af8983d5ff418c89b01bf5796ca507_4768.snappy.parquet',\n",
       "  's3://cc-download-orbis-global/res_paragraphs_input_llm/48af8983d5ff418c89b01bf5796ca507_2287.snappy.parquet',\n",
       "  's3://cc-download-orbis-global/res_paragraphs_input_llm/48af8983d5ff418c89b01bf5796ca507_4102.snappy.parquet',\n",
       "  's3://cc-download-orbis-global/res_paragraphs_input_llm/48af8983d5ff418c89b01bf5796ca507_1208.snappy.parquet',\n",
       "  's3://cc-download-orbis-global/res_paragraphs_input_llm/48af8983d5ff418c89b01bf5796ca507_3138.snappy.parquet',\n",
       "  's3://cc-download-orbis-global/res_paragraphs_input_llm/48af8983d5ff418c89b01bf5796ca507_181.snappy.parquet',\n",
       "  's3://cc-download-orbis-global/res_paragraphs_input_llm/48af8983d5ff418c89b01bf5796ca507_3347.snappy.parquet',\n",
       "  's3://cc-download-orbis-global/res_paragraphs_input_llm/48af8983d5ff418c89b01bf5796ca507_1247.snappy.parquet',\n",
       "  's3://cc-download-orbis-global/res_paragraphs_input_llm/48af8983d5ff418c89b01bf5796ca507_1370.snappy.parquet',\n",
       "  's3://cc-download-orbis-global/res_paragraphs_input_llm/48af8983d5ff418c89b01bf5796ca507_3966.snappy.parquet',\n",
       "  's3://cc-download-orbis-global/res_paragraphs_input_llm/48af8983d5ff418c89b01bf5796ca507_2228.snappy.parquet',\n",
       "  's3://cc-download-orbis-global/res_paragraphs_input_llm/48af8983d5ff418c89b01bf5796ca507_3705.snappy.parquet',\n",
       "  's3://cc-download-orbis-global/res_paragraphs_input_llm/48af8983d5ff418c89b01bf5796ca507_1347.snappy.parquet',\n",
       "  's3://cc-download-orbis-global/res_paragraphs_input_llm/48af8983d5ff418c89b01bf5796ca507_1578.snappy.parquet',\n",
       "  's3://cc-download-orbis-global/res_paragraphs_input_llm/48af8983d5ff418c89b01bf5796ca507_2045.snappy.parquet',\n",
       "  's3://cc-download-orbis-global/res_paragraphs_input_llm/48af8983d5ff418c89b01bf5796ca507_1766.snappy.parquet',\n",
       "  's3://cc-download-orbis-global/res_paragraphs_input_llm/48af8983d5ff418c89b01bf5796ca507_2686.snappy.parquet',\n",
       "  's3://cc-download-orbis-global/res_paragraphs_input_llm/48af8983d5ff418c89b01bf5796ca507_1151.snappy.parquet',\n",
       "  's3://cc-download-orbis-global/res_paragraphs_input_llm/48af8983d5ff418c89b01bf5796ca507_3951.snappy.parquet',\n",
       "  's3://cc-download-orbis-global/res_paragraphs_input_llm/48af8983d5ff418c89b01bf5796ca507_218.snappy.parquet',\n",
       "  's3://cc-download-orbis-global/res_paragraphs_input_llm/48af8983d5ff418c89b01bf5796ca507_2263.snappy.parquet',\n",
       "  's3://cc-download-orbis-global/res_paragraphs_input_llm/48af8983d5ff418c89b01bf5796ca507_4919.snappy.parquet',\n",
       "  's3://cc-download-orbis-global/res_paragraphs_input_llm/48af8983d5ff418c89b01bf5796ca507_3703.snappy.parquet',\n",
       "  's3://cc-download-orbis-global/res_paragraphs_input_llm/48af8983d5ff418c89b01bf5796ca507_1811.snappy.parquet',\n",
       "  's3://cc-download-orbis-global/res_paragraphs_input_llm/48af8983d5ff418c89b01bf5796ca507_40.snappy.parquet',\n",
       "  's3://cc-download-orbis-global/res_paragraphs_input_llm/48af8983d5ff418c89b01bf5796ca507_1998.snappy.parquet',\n",
       "  's3://cc-download-orbis-global/res_paragraphs_input_llm/48af8983d5ff418c89b01bf5796ca507_1377.snappy.parquet',\n",
       "  's3://cc-download-orbis-global/res_paragraphs_input_llm/48af8983d5ff418c89b01bf5796ca507_4332.snappy.parquet',\n",
       "  's3://cc-download-orbis-global/res_paragraphs_input_llm/48af8983d5ff418c89b01bf5796ca507_4679.snappy.parquet',\n",
       "  's3://cc-download-orbis-global/res_paragraphs_input_llm/48af8983d5ff418c89b01bf5796ca507_2820.snappy.parquet',\n",
       "  's3://cc-download-orbis-global/res_paragraphs_input_llm/48af8983d5ff418c89b01bf5796ca507_2248.snappy.parquet',\n",
       "  's3://cc-download-orbis-global/res_paragraphs_input_llm/48af8983d5ff418c89b01bf5796ca507_1996.snappy.parquet',\n",
       "  's3://cc-download-orbis-global/res_paragraphs_input_llm/48af8983d5ff418c89b01bf5796ca507_4054.snappy.parquet',\n",
       "  's3://cc-download-orbis-global/res_paragraphs_input_llm/48af8983d5ff418c89b01bf5796ca507_4000.snappy.parquet',\n",
       "  's3://cc-download-orbis-global/res_paragraphs_input_llm/48af8983d5ff418c89b01bf5796ca507_1852.snappy.parquet',\n",
       "  's3://cc-download-orbis-global/res_paragraphs_input_llm/48af8983d5ff418c89b01bf5796ca507_3650.snappy.parquet',\n",
       "  's3://cc-download-orbis-global/res_paragraphs_input_llm/48af8983d5ff418c89b01bf5796ca507_4213.snappy.parquet',\n",
       "  's3://cc-download-orbis-global/res_paragraphs_input_llm/48af8983d5ff418c89b01bf5796ca507_4025.snappy.parquet',\n",
       "  's3://cc-download-orbis-global/res_paragraphs_input_llm/48af8983d5ff418c89b01bf5796ca507_3354.snappy.parquet',\n",
       "  's3://cc-download-orbis-global/res_paragraphs_input_llm/48af8983d5ff418c89b01bf5796ca507_1191.snappy.parquet',\n",
       "  's3://cc-download-orbis-global/res_paragraphs_input_llm/48af8983d5ff418c89b01bf5796ca507_492.snappy.parquet',\n",
       "  's3://cc-download-orbis-global/res_paragraphs_input_llm/48af8983d5ff418c89b01bf5796ca507_4229.snappy.parquet',\n",
       "  's3://cc-download-orbis-global/res_paragraphs_input_llm/48af8983d5ff418c89b01bf5796ca507_3036.snappy.parquet',\n",
       "  's3://cc-download-orbis-global/res_paragraphs_input_llm/48af8983d5ff418c89b01bf5796ca507_4310.snappy.parquet',\n",
       "  's3://cc-download-orbis-global/res_paragraphs_input_llm/48af8983d5ff418c89b01bf5796ca507_3166.snappy.parquet',\n",
       "  's3://cc-download-orbis-global/res_paragraphs_input_llm/48af8983d5ff418c89b01bf5796ca507_225.snappy.parquet',\n",
       "  's3://cc-download-orbis-global/res_paragraphs_input_llm/48af8983d5ff418c89b01bf5796ca507_4345.snappy.parquet',\n",
       "  's3://cc-download-orbis-global/res_paragraphs_input_llm/48af8983d5ff418c89b01bf5796ca507_1378.snappy.parquet',\n",
       "  's3://cc-download-orbis-global/res_paragraphs_input_llm/48af8983d5ff418c89b01bf5796ca507_3664.snappy.parquet',\n",
       "  's3://cc-download-orbis-global/res_paragraphs_input_llm/48af8983d5ff418c89b01bf5796ca507_1954.snappy.parquet',\n",
       "  's3://cc-download-orbis-global/res_paragraphs_input_llm/48af8983d5ff418c89b01bf5796ca507_1365.snappy.parquet',\n",
       "  's3://cc-download-orbis-global/res_paragraphs_input_llm/48af8983d5ff418c89b01bf5796ca507_1530.snappy.parquet',\n",
       "  's3://cc-download-orbis-global/res_paragraphs_input_llm/48af8983d5ff418c89b01bf5796ca507_2889.snappy.parquet',\n",
       "  's3://cc-download-orbis-global/res_paragraphs_input_llm/48af8983d5ff418c89b01bf5796ca507_290.snappy.parquet',\n",
       "  's3://cc-download-orbis-global/res_paragraphs_input_llm/48af8983d5ff418c89b01bf5796ca507_2285.snappy.parquet',\n",
       "  's3://cc-download-orbis-global/res_paragraphs_input_llm/48af8983d5ff418c89b01bf5796ca507_1022.snappy.parquet',\n",
       "  's3://cc-download-orbis-global/res_paragraphs_input_llm/48af8983d5ff418c89b01bf5796ca507_249.snappy.parquet',\n",
       "  's3://cc-download-orbis-global/res_paragraphs_input_llm/48af8983d5ff418c89b01bf5796ca507_4864.snappy.parquet',\n",
       "  's3://cc-download-orbis-global/res_paragraphs_input_llm/48af8983d5ff418c89b01bf5796ca507_4030.snappy.parquet',\n",
       "  's3://cc-download-orbis-global/res_paragraphs_input_llm/48af8983d5ff418c89b01bf5796ca507_801.snappy.parquet',\n",
       "  's3://cc-download-orbis-global/res_paragraphs_input_llm/48af8983d5ff418c89b01bf5796ca507_1283.snappy.parquet',\n",
       "  's3://cc-download-orbis-global/res_paragraphs_input_llm/48af8983d5ff418c89b01bf5796ca507_302.snappy.parquet',\n",
       "  's3://cc-download-orbis-global/res_paragraphs_input_llm/48af8983d5ff418c89b01bf5796ca507_1024.snappy.parquet',\n",
       "  's3://cc-download-orbis-global/res_paragraphs_input_llm/48af8983d5ff418c89b01bf5796ca507_3415.snappy.parquet',\n",
       "  's3://cc-download-orbis-global/res_paragraphs_input_llm/48af8983d5ff418c89b01bf5796ca507_69.snappy.parquet',\n",
       "  's3://cc-download-orbis-global/res_paragraphs_input_llm/48af8983d5ff418c89b01bf5796ca507_2752.snappy.parquet',\n",
       "  's3://cc-download-orbis-global/res_paragraphs_input_llm/48af8983d5ff418c89b01bf5796ca507_647.snappy.parquet',\n",
       "  's3://cc-download-orbis-global/res_paragraphs_input_llm/48af8983d5ff418c89b01bf5796ca507_1025.snappy.parquet',\n",
       "  's3://cc-download-orbis-global/res_paragraphs_input_llm/48af8983d5ff418c89b01bf5796ca507_2949.snappy.parquet',\n",
       "  's3://cc-download-orbis-global/res_paragraphs_input_llm/48af8983d5ff418c89b01bf5796ca507_4289.snappy.parquet',\n",
       "  's3://cc-download-orbis-global/res_paragraphs_input_llm/48af8983d5ff418c89b01bf5796ca507_4187.snappy.parquet',\n",
       "  's3://cc-download-orbis-global/res_paragraphs_input_llm/48af8983d5ff418c89b01bf5796ca507_3810.snappy.parquet',\n",
       "  's3://cc-download-orbis-global/res_paragraphs_input_llm/48af8983d5ff418c89b01bf5796ca507_3001.snappy.parquet',\n",
       "  's3://cc-download-orbis-global/res_paragraphs_input_llm/48af8983d5ff418c89b01bf5796ca507_1257.snappy.parquet',\n",
       "  's3://cc-download-orbis-global/res_paragraphs_input_llm/48af8983d5ff418c89b01bf5796ca507_1251.snappy.parquet',\n",
       "  's3://cc-download-orbis-global/res_paragraphs_input_llm/48af8983d5ff418c89b01bf5796ca507_3672.snappy.parquet',\n",
       "  's3://cc-download-orbis-global/res_paragraphs_input_llm/48af8983d5ff418c89b01bf5796ca507_2592.snappy.parquet',\n",
       "  's3://cc-download-orbis-global/res_paragraphs_input_llm/48af8983d5ff418c89b01bf5796ca507_999.snappy.parquet',\n",
       "  's3://cc-download-orbis-global/res_paragraphs_input_llm/48af8983d5ff418c89b01bf5796ca507_4166.snappy.parquet',\n",
       "  's3://cc-download-orbis-global/res_paragraphs_input_llm/48af8983d5ff418c89b01bf5796ca507_3551.snappy.parquet',\n",
       "  's3://cc-download-orbis-global/res_paragraphs_input_llm/48af8983d5ff418c89b01bf5796ca507_581.snappy.parquet',\n",
       "  's3://cc-download-orbis-global/res_paragraphs_input_llm/48af8983d5ff418c89b01bf5796ca507_2849.snappy.parquet',\n",
       "  's3://cc-download-orbis-global/res_paragraphs_input_llm/48af8983d5ff418c89b01bf5796ca507_2050.snappy.parquet',\n",
       "  's3://cc-download-orbis-global/res_paragraphs_input_llm/48af8983d5ff418c89b01bf5796ca507_2595.snappy.parquet',\n",
       "  's3://cc-download-orbis-global/res_paragraphs_input_llm/48af8983d5ff418c89b01bf5796ca507_2268.snappy.parquet',\n",
       "  's3://cc-download-orbis-global/res_paragraphs_input_llm/48af8983d5ff418c89b01bf5796ca507_2173.snappy.parquet',\n",
       "  's3://cc-download-orbis-global/res_paragraphs_input_llm/48af8983d5ff418c89b01bf5796ca507_644.snappy.parquet',\n",
       "  's3://cc-download-orbis-global/res_paragraphs_input_llm/48af8983d5ff418c89b01bf5796ca507_2110.snappy.parquet',\n",
       "  's3://cc-download-orbis-global/res_paragraphs_input_llm/48af8983d5ff418c89b01bf5796ca507_68.snappy.parquet',\n",
       "  's3://cc-download-orbis-global/res_paragraphs_input_llm/48af8983d5ff418c89b01bf5796ca507_4765.snappy.parquet',\n",
       "  's3://cc-download-orbis-global/res_paragraphs_input_llm/48af8983d5ff418c89b01bf5796ca507_4208.snappy.parquet',\n",
       "  's3://cc-download-orbis-global/res_paragraphs_input_llm/48af8983d5ff418c89b01bf5796ca507_4085.snappy.parquet',\n",
       "  's3://cc-download-orbis-global/res_paragraphs_input_llm/48af8983d5ff418c89b01bf5796ca507_3365.snappy.parquet',\n",
       "  's3://cc-download-orbis-global/res_paragraphs_input_llm/48af8983d5ff418c89b01bf5796ca507_1026.snappy.parquet',\n",
       "  's3://cc-download-orbis-global/res_paragraphs_input_llm/48af8983d5ff418c89b01bf5796ca507_3864.snappy.parquet',\n",
       "  's3://cc-download-orbis-global/res_paragraphs_input_llm/48af8983d5ff418c89b01bf5796ca507_1033.snappy.parquet',\n",
       "  's3://cc-download-orbis-global/res_paragraphs_input_llm/48af8983d5ff418c89b01bf5796ca507_4571.snappy.parquet',\n",
       "  's3://cc-download-orbis-global/res_paragraphs_input_llm/48af8983d5ff418c89b01bf5796ca507_3832.snappy.parquet',\n",
       "  's3://cc-download-orbis-global/res_paragraphs_input_llm/48af8983d5ff418c89b01bf5796ca507_1328.snappy.parquet',\n",
       "  's3://cc-download-orbis-global/res_paragraphs_input_llm/48af8983d5ff418c89b01bf5796ca507_3665.snappy.parquet',\n",
       "  's3://cc-download-orbis-global/res_paragraphs_input_llm/48af8983d5ff418c89b01bf5796ca507_3186.snappy.parquet',\n",
       "  's3://cc-download-orbis-global/res_paragraphs_input_llm/48af8983d5ff418c89b01bf5796ca507_583.snappy.parquet',\n",
       "  's3://cc-download-orbis-global/res_paragraphs_input_llm/48af8983d5ff418c89b01bf5796ca507_3273.snappy.parquet',\n",
       "  's3://cc-download-orbis-global/res_paragraphs_input_llm/48af8983d5ff418c89b01bf5796ca507_4541.snappy.parquet',\n",
       "  's3://cc-download-orbis-global/res_paragraphs_input_llm/48af8983d5ff418c89b01bf5796ca507_1248.snappy.parquet',\n",
       "  's3://cc-download-orbis-global/res_paragraphs_input_llm/48af8983d5ff418c89b01bf5796ca507_331.snappy.parquet',\n",
       "  's3://cc-download-orbis-global/res_paragraphs_input_llm/48af8983d5ff418c89b01bf5796ca507_784.snappy.parquet',\n",
       "  's3://cc-download-orbis-global/res_paragraphs_input_llm/48af8983d5ff418c89b01bf5796ca507_238.snappy.parquet',\n",
       "  's3://cc-download-orbis-global/res_paragraphs_input_llm/48af8983d5ff418c89b01bf5796ca507_1795.snappy.parquet',\n",
       "  's3://cc-download-orbis-global/res_paragraphs_input_llm/48af8983d5ff418c89b01bf5796ca507_3456.snappy.parquet',\n",
       "  's3://cc-download-orbis-global/res_paragraphs_input_llm/48af8983d5ff418c89b01bf5796ca507_2106.snappy.parquet',\n",
       "  's3://cc-download-orbis-global/res_paragraphs_input_llm/48af8983d5ff418c89b01bf5796ca507_1286.snappy.parquet',\n",
       "  's3://cc-download-orbis-global/res_paragraphs_input_llm/48af8983d5ff418c89b01bf5796ca507_239.snappy.parquet',\n",
       "  's3://cc-download-orbis-global/res_paragraphs_input_llm/48af8983d5ff418c89b01bf5796ca507_443.snappy.parquet',\n",
       "  's3://cc-download-orbis-global/res_paragraphs_input_llm/48af8983d5ff418c89b01bf5796ca507_3315.snappy.parquet',\n",
       "  's3://cc-download-orbis-global/res_paragraphs_input_llm/48af8983d5ff418c89b01bf5796ca507_1027.snappy.parquet',\n",
       "  's3://cc-download-orbis-global/res_paragraphs_input_llm/48af8983d5ff418c89b01bf5796ca507_3547.snappy.parquet',\n",
       "  's3://cc-download-orbis-global/res_paragraphs_input_llm/48af8983d5ff418c89b01bf5796ca507_3450.snappy.parquet',\n",
       "  's3://cc-download-orbis-global/res_paragraphs_input_llm/48af8983d5ff418c89b01bf5796ca507_2821.snappy.parquet',\n",
       "  's3://cc-download-orbis-global/res_paragraphs_input_llm/48af8983d5ff418c89b01bf5796ca507_4342.snappy.parquet',\n",
       "  's3://cc-download-orbis-global/res_paragraphs_input_llm/48af8983d5ff418c89b01bf5796ca507_1032.snappy.parquet',\n",
       "  's3://cc-download-orbis-global/res_paragraphs_input_llm/48af8983d5ff418c89b01bf5796ca507_2288.snappy.parquet',\n",
       "  's3://cc-download-orbis-global/res_paragraphs_input_llm/48af8983d5ff418c89b01bf5796ca507_4878.snappy.parquet',\n",
       "  's3://cc-download-orbis-global/res_paragraphs_input_llm/48af8983d5ff418c89b01bf5796ca507_3194.snappy.parquet',\n",
       "  's3://cc-download-orbis-global/res_paragraphs_input_llm/48af8983d5ff418c89b01bf5796ca507_3733.snappy.parquet',\n",
       "  's3://cc-download-orbis-global/res_paragraphs_input_llm/48af8983d5ff418c89b01bf5796ca507_1924.snappy.parquet',\n",
       "  's3://cc-download-orbis-global/res_paragraphs_input_llm/48af8983d5ff418c89b01bf5796ca507_582.snappy.parquet',\n",
       "  's3://cc-download-orbis-global/res_paragraphs_input_llm/48af8983d5ff418c89b01bf5796ca507_304.snappy.parquet',\n",
       "  's3://cc-download-orbis-global/res_paragraphs_input_llm/48af8983d5ff418c89b01bf5796ca507_1240.snappy.parquet',\n",
       "  's3://cc-download-orbis-global/res_paragraphs_input_llm/48af8983d5ff418c89b01bf5796ca507_480.snappy.parquet',\n",
       "  's3://cc-download-orbis-global/res_paragraphs_input_llm/48af8983d5ff418c89b01bf5796ca507_4290.snappy.parquet',\n",
       "  's3://cc-download-orbis-global/res_paragraphs_input_llm/48af8983d5ff418c89b01bf5796ca507_167.snappy.parquet',\n",
       "  's3://cc-download-orbis-global/res_paragraphs_input_llm/48af8983d5ff418c89b01bf5796ca507_1891.snappy.parquet',\n",
       "  's3://cc-download-orbis-global/res_paragraphs_input_llm/48af8983d5ff418c89b01bf5796ca507_3776.snappy.parquet',\n",
       "  's3://cc-download-orbis-global/res_paragraphs_input_llm/48af8983d5ff418c89b01bf5796ca507_3016.snappy.parquet',\n",
       "  's3://cc-download-orbis-global/res_paragraphs_input_llm/48af8983d5ff418c89b01bf5796ca507_2341.snappy.parquet',\n",
       "  's3://cc-download-orbis-global/res_paragraphs_input_llm/48af8983d5ff418c89b01bf5796ca507_981.snappy.parquet',\n",
       "  's3://cc-download-orbis-global/res_paragraphs_input_llm/48af8983d5ff418c89b01bf5796ca507_4297.snappy.parquet',\n",
       "  's3://cc-download-orbis-global/res_paragraphs_input_llm/48af8983d5ff418c89b01bf5796ca507_2627.snappy.parquet',\n",
       "  's3://cc-download-orbis-global/res_paragraphs_input_llm/48af8983d5ff418c89b01bf5796ca507_1120.snappy.parquet',\n",
       "  's3://cc-download-orbis-global/res_paragraphs_input_llm/48af8983d5ff418c89b01bf5796ca507_454.snappy.parquet',\n",
       "  's3://cc-download-orbis-global/res_paragraphs_input_llm/48af8983d5ff418c89b01bf5796ca507_3277.snappy.parquet',\n",
       "  's3://cc-download-orbis-global/res_paragraphs_input_llm/48af8983d5ff418c89b01bf5796ca507_2267.snappy.parquet',\n",
       "  's3://cc-download-orbis-global/res_paragraphs_input_llm/48af8983d5ff418c89b01bf5796ca507_997.snappy.parquet',\n",
       "  's3://cc-download-orbis-global/res_paragraphs_input_llm/48af8983d5ff418c89b01bf5796ca507_2404.snappy.parquet',\n",
       "  's3://cc-download-orbis-global/res_paragraphs_input_llm/48af8983d5ff418c89b01bf5796ca507_335.snappy.parquet',\n",
       "  's3://cc-download-orbis-global/res_paragraphs_input_llm/48af8983d5ff418c89b01bf5796ca507_449.snappy.parquet',\n",
       "  's3://cc-download-orbis-global/res_paragraphs_input_llm/48af8983d5ff418c89b01bf5796ca507_3276.snappy.parquet',\n",
       "  's3://cc-download-orbis-global/res_paragraphs_input_llm/48af8983d5ff418c89b01bf5796ca507_1537.snappy.parquet',\n",
       "  's3://cc-download-orbis-global/res_paragraphs_input_llm/48af8983d5ff418c89b01bf5796ca507_3936.snappy.parquet',\n",
       "  's3://cc-download-orbis-global/res_paragraphs_input_llm/48af8983d5ff418c89b01bf5796ca507_2044.snappy.parquet',\n",
       "  's3://cc-download-orbis-global/res_paragraphs_input_llm/48af8983d5ff418c89b01bf5796ca507_698.snappy.parquet',\n",
       "  's3://cc-download-orbis-global/res_paragraphs_input_llm/48af8983d5ff418c89b01bf5796ca507_1250.snappy.parquet',\n",
       "  's3://cc-download-orbis-global/res_paragraphs_input_llm/48af8983d5ff418c89b01bf5796ca507_3927.snappy.parquet',\n",
       "  's3://cc-download-orbis-global/res_paragraphs_input_llm/48af8983d5ff418c89b01bf5796ca507_2354.snappy.parquet',\n",
       "  's3://cc-download-orbis-global/res_paragraphs_input_llm/48af8983d5ff418c89b01bf5796ca507_180.snappy.parquet',\n",
       "  's3://cc-download-orbis-global/res_paragraphs_input_llm/48af8983d5ff418c89b01bf5796ca507_1919.snappy.parquet',\n",
       "  's3://cc-download-orbis-global/res_paragraphs_input_llm/48af8983d5ff418c89b01bf5796ca507_1282.snappy.parquet',\n",
       "  's3://cc-download-orbis-global/res_paragraphs_input_llm/48af8983d5ff418c89b01bf5796ca507_2364.snappy.parquet',\n",
       "  's3://cc-download-orbis-global/res_paragraphs_input_llm/48af8983d5ff418c89b01bf5796ca507_2094.snappy.parquet',\n",
       "  's3://cc-download-orbis-global/res_paragraphs_input_llm/48af8983d5ff418c89b01bf5796ca507_2046.snappy.parquet',\n",
       "  's3://cc-download-orbis-global/res_paragraphs_input_llm/48af8983d5ff418c89b01bf5796ca507_453.snappy.parquet',\n",
       "  's3://cc-download-orbis-global/res_paragraphs_input_llm/48af8983d5ff418c89b01bf5796ca507_2093.snappy.parquet',\n",
       "  's3://cc-download-orbis-global/res_paragraphs_input_llm/48af8983d5ff418c89b01bf5796ca507_1384.snappy.parquet',\n",
       "  's3://cc-download-orbis-global/res_paragraphs_input_llm/48af8983d5ff418c89b01bf5796ca507_995.snappy.parquet',\n",
       "  's3://cc-download-orbis-global/res_paragraphs_input_llm/48af8983d5ff418c89b01bf5796ca507_4404.snappy.parquet',\n",
       "  's3://cc-download-orbis-global/res_paragraphs_input_llm/48af8983d5ff418c89b01bf5796ca507_2402.snappy.parquet',\n",
       "  's3://cc-download-orbis-global/res_paragraphs_input_llm/48af8983d5ff418c89b01bf5796ca507_2117.snappy.parquet',\n",
       "  's3://cc-download-orbis-global/res_paragraphs_input_llm/48af8983d5ff418c89b01bf5796ca507_3585.snappy.parquet',\n",
       "  's3://cc-download-orbis-global/res_paragraphs_input_llm/48af8983d5ff418c89b01bf5796ca507_2233.snappy.parquet',\n",
       "  's3://cc-download-orbis-global/res_paragraphs_input_llm/48af8983d5ff418c89b01bf5796ca507_1885.snappy.parquet',\n",
       "  's3://cc-download-orbis-global/res_paragraphs_input_llm/48af8983d5ff418c89b01bf5796ca507_450.snappy.parquet',\n",
       "  's3://cc-download-orbis-global/res_paragraphs_input_llm/48af8983d5ff418c89b01bf5796ca507_2128.snappy.parquet',\n",
       "  's3://cc-download-orbis-global/res_paragraphs_input_llm/48af8983d5ff418c89b01bf5796ca507_2043.snappy.parquet',\n",
       "  's3://cc-download-orbis-global/res_paragraphs_input_llm/48af8983d5ff418c89b01bf5796ca507_2885.snappy.parquet',\n",
       "  's3://cc-download-orbis-global/res_paragraphs_input_llm/48af8983d5ff418c89b01bf5796ca507_1925.snappy.parquet',\n",
       "  's3://cc-download-orbis-global/res_paragraphs_input_llm/48af8983d5ff418c89b01bf5796ca507_3907.snappy.parquet',\n",
       "  's3://cc-download-orbis-global/res_paragraphs_input_llm/48af8983d5ff418c89b01bf5796ca507_2624.snappy.parquet',\n",
       "  's3://cc-download-orbis-global/res_paragraphs_input_llm/48af8983d5ff418c89b01bf5796ca507_2224.snappy.parquet',\n",
       "  's3://cc-download-orbis-global/res_paragraphs_input_llm/48af8983d5ff418c89b01bf5796ca507_1241.snappy.parquet',\n",
       "  's3://cc-download-orbis-global/res_paragraphs_input_llm/48af8983d5ff418c89b01bf5796ca507_4595.snappy.parquet',\n",
       "  's3://cc-download-orbis-global/res_paragraphs_input_llm/48af8983d5ff418c89b01bf5796ca507_4259.snappy.parquet',\n",
       "  's3://cc-download-orbis-global/res_paragraphs_input_llm/48af8983d5ff418c89b01bf5796ca507_1030.snappy.parquet',\n",
       "  's3://cc-download-orbis-global/res_paragraphs_input_llm/48af8983d5ff418c89b01bf5796ca507_236.snappy.parquet',\n",
       "  's3://cc-download-orbis-global/res_paragraphs_input_llm/48af8983d5ff418c89b01bf5796ca507_4227.snappy.parquet',\n",
       "  's3://cc-download-orbis-global/res_paragraphs_input_llm/48af8983d5ff418c89b01bf5796ca507_452.snappy.parquet',\n",
       "  's3://cc-download-orbis-global/res_paragraphs_input_llm/48af8983d5ff418c89b01bf5796ca507_4546.snappy.parquet',\n",
       "  's3://cc-download-orbis-global/res_paragraphs_input_llm/48af8983d5ff418c89b01bf5796ca507_2107.snappy.parquet',\n",
       "  's3://cc-download-orbis-global/res_paragraphs_input_llm/48af8983d5ff418c89b01bf5796ca507_2335.snappy.parquet',\n",
       "  's3://cc-download-orbis-global/res_paragraphs_input_llm/48af8983d5ff418c89b01bf5796ca507_4846.snappy.parquet',\n",
       "  's3://cc-download-orbis-global/res_paragraphs_input_llm/48af8983d5ff418c89b01bf5796ca507_4092.snappy.parquet',\n",
       "  's3://cc-download-orbis-global/res_paragraphs_input_llm/48af8983d5ff418c89b01bf5796ca507_3268.snappy.parquet',\n",
       "  's3://cc-download-orbis-global/res_paragraphs_input_llm/48af8983d5ff418c89b01bf5796ca507_1152.snappy.parquet',\n",
       "  's3://cc-download-orbis-global/res_paragraphs_input_llm/48af8983d5ff418c89b01bf5796ca507_4903.snappy.parquet',\n",
       "  's3://cc-download-orbis-global/res_paragraphs_input_llm/48af8983d5ff418c89b01bf5796ca507_1853.snappy.parquet',\n",
       "  's3://cc-download-orbis-global/res_paragraphs_input_llm/48af8983d5ff418c89b01bf5796ca507_2807.snappy.parquet',\n",
       "  's3://cc-download-orbis-global/res_paragraphs_input_llm/48af8983d5ff418c89b01bf5796ca507_1511.snappy.parquet',\n",
       "  's3://cc-download-orbis-global/res_paragraphs_input_llm/48af8983d5ff418c89b01bf5796ca507_3779.snappy.parquet',\n",
       "  's3://cc-download-orbis-global/res_paragraphs_input_llm/48af8983d5ff418c89b01bf5796ca507_4722.snappy.parquet',\n",
       "  's3://cc-download-orbis-global/res_paragraphs_input_llm/48af8983d5ff418c89b01bf5796ca507_2848.snappy.parquet',\n",
       "  's3://cc-download-orbis-global/res_paragraphs_input_llm/48af8983d5ff418c89b01bf5796ca507_1799.snappy.parquet',\n",
       "  's3://cc-download-orbis-global/res_paragraphs_input_llm/48af8983d5ff418c89b01bf5796ca507_1632.snappy.parquet',\n",
       "  's3://cc-download-orbis-global/res_paragraphs_input_llm/48af8983d5ff418c89b01bf5796ca507_3380.snappy.parquet',\n",
       "  's3://cc-download-orbis-global/res_paragraphs_input_llm/48af8983d5ff418c89b01bf5796ca507_2450.snappy.parquet',\n",
       "  's3://cc-download-orbis-global/res_paragraphs_input_llm/48af8983d5ff418c89b01bf5796ca507_1110.snappy.parquet',\n",
       "  's3://cc-download-orbis-global/res_paragraphs_input_llm/48af8983d5ff418c89b01bf5796ca507_2218.snappy.parquet',\n",
       "  's3://cc-download-orbis-global/res_paragraphs_input_llm/48af8983d5ff418c89b01bf5796ca507_4996.snappy.parquet',\n",
       "  's3://cc-download-orbis-global/res_paragraphs_input_llm/48af8983d5ff418c89b01bf5796ca507_3778.snappy.parquet',\n",
       "  's3://cc-download-orbis-global/res_paragraphs_input_llm/48af8983d5ff418c89b01bf5796ca507_4323.snappy.parquet',\n",
       "  's3://cc-download-orbis-global/res_paragraphs_input_llm/48af8983d5ff418c89b01bf5796ca507_451.snappy.parquet',\n",
       "  's3://cc-download-orbis-global/res_paragraphs_input_llm/48af8983d5ff418c89b01bf5796ca507_1819.snappy.parquet',\n",
       "  's3://cc-download-orbis-global/res_paragraphs_input_llm/48af8983d5ff418c89b01bf5796ca507_994.snappy.parquet',\n",
       "  's3://cc-download-orbis-global/res_paragraphs_input_llm/48af8983d5ff418c89b01bf5796ca507_2537.snappy.parquet',\n",
       "  's3://cc-download-orbis-global/res_paragraphs_input_llm/48af8983d5ff418c89b01bf5796ca507_2619.snappy.parquet',\n",
       "  's3://cc-download-orbis-global/res_paragraphs_input_llm/48af8983d5ff418c89b01bf5796ca507_3278.snappy.parquet',\n",
       "  's3://cc-download-orbis-global/res_paragraphs_input_llm/48af8983d5ff418c89b01bf5796ca507_1285.snappy.parquet',\n",
       "  's3://cc-download-orbis-global/res_paragraphs_input_llm/48af8983d5ff418c89b01bf5796ca507_2116.snappy.parquet',\n",
       "  's3://cc-download-orbis-global/res_paragraphs_input_llm/48af8983d5ff418c89b01bf5796ca507_3644.snappy.parquet',\n",
       "  's3://cc-download-orbis-global/res_paragraphs_input_llm/48af8983d5ff418c89b01bf5796ca507_3449.snappy.parquet',\n",
       "  's3://cc-download-orbis-global/res_paragraphs_input_llm/48af8983d5ff418c89b01bf5796ca507_4099.snappy.parquet',\n",
       "  's3://cc-download-orbis-global/res_paragraphs_input_llm/48af8983d5ff418c89b01bf5796ca507_3426.snappy.parquet',\n",
       "  's3://cc-download-orbis-global/res_paragraphs_input_llm/48af8983d5ff418c89b01bf5796ca507_2681.snappy.parquet',\n",
       "  's3://cc-download-orbis-global/res_paragraphs_input_llm/48af8983d5ff418c89b01bf5796ca507_4124.snappy.parquet',\n",
       "  's3://cc-download-orbis-global/res_paragraphs_input_llm/48af8983d5ff418c89b01bf5796ca507_2888.snappy.parquet',\n",
       "  's3://cc-download-orbis-global/res_paragraphs_input_llm/48af8983d5ff418c89b01bf5796ca507_979.snappy.parquet',\n",
       "  's3://cc-download-orbis-global/res_paragraphs_input_llm/48af8983d5ff418c89b01bf5796ca507_286.snappy.parquet',\n",
       "  's3://cc-download-orbis-global/res_paragraphs_input_llm/48af8983d5ff418c89b01bf5796ca507_1995.snappy.parquet',\n",
       "  's3://cc-download-orbis-global/res_paragraphs_input_llm/48af8983d5ff418c89b01bf5796ca507_2109.snappy.parquet',\n",
       "  's3://cc-download-orbis-global/res_paragraphs_input_llm/48af8983d5ff418c89b01bf5796ca507_1242.snappy.parquet',\n",
       "  's3://cc-download-orbis-global/res_paragraphs_input_llm/48af8983d5ff418c89b01bf5796ca507_4015.snappy.parquet',\n",
       "  's3://cc-download-orbis-global/res_paragraphs_input_llm/48af8983d5ff418c89b01bf5796ca507_1571.snappy.parquet',\n",
       "  's3://cc-download-orbis-global/res_paragraphs_input_llm/48af8983d5ff418c89b01bf5796ca507_72.snappy.parquet',\n",
       "  's3://cc-download-orbis-global/res_paragraphs_input_llm/48af8983d5ff418c89b01bf5796ca507_3181.snappy.parquet',\n",
       "  's3://cc-download-orbis-global/res_paragraphs_input_llm/48af8983d5ff418c89b01bf5796ca507_1023.snappy.parquet',\n",
       "  's3://cc-download-orbis-global/res_paragraphs_input_llm/48af8983d5ff418c89b01bf5796ca507_4282.snappy.parquet',\n",
       "  's3://cc-download-orbis-global/res_paragraphs_input_llm/48af8983d5ff418c89b01bf5796ca507_4420.snappy.parquet',\n",
       "  's3://cc-download-orbis-global/res_paragraphs_input_llm/48af8983d5ff418c89b01bf5796ca507_4103.snappy.parquet',\n",
       "  's3://cc-download-orbis-global/res_paragraphs_input_llm/48af8983d5ff418c89b01bf5796ca507_3406.snappy.parquet',\n",
       "  's3://cc-download-orbis-global/res_paragraphs_input_llm/48af8983d5ff418c89b01bf5796ca507_1374.snappy.parquet',\n",
       "  's3://cc-download-orbis-global/res_paragraphs_input_llm/48af8983d5ff418c89b01bf5796ca507_3002.snappy.parquet',\n",
       "  's3://cc-download-orbis-global/res_paragraphs_input_llm/48af8983d5ff418c89b01bf5796ca507_4721.snappy.parquet',\n",
       "  's3://cc-download-orbis-global/res_paragraphs_input_llm/48af8983d5ff418c89b01bf5796ca507_1031.snappy.parquet',\n",
       "  's3://cc-download-orbis-global/res_paragraphs_input_llm/48af8983d5ff418c89b01bf5796ca507_1348.snappy.parquet',\n",
       "  's3://cc-download-orbis-global/res_paragraphs_input_llm/48af8983d5ff418c89b01bf5796ca507_3486.snappy.parquet',\n",
       "  's3://cc-download-orbis-global/res_paragraphs_input_llm/48af8983d5ff418c89b01bf5796ca507_2225.snappy.parquet',\n",
       "  's3://cc-download-orbis-global/res_paragraphs_input_llm/48af8983d5ff418c89b01bf5796ca507_2769.snappy.parquet',\n",
       "  's3://cc-download-orbis-global/res_paragraphs_input_llm/48af8983d5ff418c89b01bf5796ca507_3740.snappy.parquet',\n",
       "  's3://cc-download-orbis-global/res_paragraphs_input_llm/48af8983d5ff418c89b01bf5796ca507_3427.snappy.parquet',\n",
       "  's3://cc-download-orbis-global/res_paragraphs_input_llm/48af8983d5ff418c89b01bf5796ca507_1769.snappy.parquet',\n",
       "  's3://cc-download-orbis-global/res_paragraphs_input_llm/48af8983d5ff418c89b01bf5796ca507_2256.snappy.parquet',\n",
       "  's3://cc-download-orbis-global/res_paragraphs_input_llm/48af8983d5ff418c89b01bf5796ca507_3475.snappy.parquet',\n",
       "  's3://cc-download-orbis-global/res_paragraphs_input_llm/48af8983d5ff418c89b01bf5796ca507_2047.snappy.parquet',\n",
       "  's3://cc-download-orbis-global/res_paragraphs_input_llm/48af8983d5ff418c89b01bf5796ca507_4340.snappy.parquet',\n",
       "  's3://cc-download-orbis-global/res_paragraphs_input_llm/48af8983d5ff418c89b01bf5796ca507_3967.snappy.parquet',\n",
       "  's3://cc-download-orbis-global/res_paragraphs_input_llm/48af8983d5ff418c89b01bf5796ca507_1376.snappy.parquet',\n",
       "  's3://cc-download-orbis-global/res_paragraphs_input_llm/48af8983d5ff418c89b01bf5796ca507_2701.snappy.parquet',\n",
       "  's3://cc-download-orbis-global/res_paragraphs_input_llm/48af8983d5ff418c89b01bf5796ca507_4485.snappy.parquet',\n",
       "  's3://cc-download-orbis-global/res_paragraphs_input_llm/48af8983d5ff418c89b01bf5796ca507_1346.snappy.parquet',\n",
       "  's3://cc-download-orbis-global/res_paragraphs_input_llm/48af8983d5ff418c89b01bf5796ca507_622.snappy.parquet',\n",
       "  's3://cc-download-orbis-global/res_paragraphs_input_llm/48af8983d5ff418c89b01bf5796ca507_3134.snappy.parquet',\n",
       "  's3://cc-download-orbis-global/res_paragraphs_input_llm/48af8983d5ff418c89b01bf5796ca507_2937.snappy.parquet',\n",
       "  's3://cc-download-orbis-global/res_paragraphs_input_llm/48af8983d5ff418c89b01bf5796ca507_2566.snappy.parquet',\n",
       "  's3://cc-download-orbis-global/res_paragraphs_input_llm/48af8983d5ff418c89b01bf5796ca507_2791.snappy.parquet',\n",
       "  's3://cc-download-orbis-global/res_paragraphs_input_llm/48af8983d5ff418c89b01bf5796ca507_2569.snappy.parquet',\n",
       "  's3://cc-download-orbis-global/res_paragraphs_input_llm/48af8983d5ff418c89b01bf5796ca507_2463.snappy.parquet',\n",
       "  's3://cc-download-orbis-global/res_paragraphs_input_llm/48af8983d5ff418c89b01bf5796ca507_2561.snappy.parquet',\n",
       "  's3://cc-download-orbis-global/res_paragraphs_input_llm/48af8983d5ff418c89b01bf5796ca507_2227.snappy.parquet',\n",
       "  's3://cc-download-orbis-global/res_paragraphs_input_llm/48af8983d5ff418c89b01bf5796ca507_3723.snappy.parquet',\n",
       "  's3://cc-download-orbis-global/res_paragraphs_input_llm/48af8983d5ff418c89b01bf5796ca507_2903.snappy.parquet',\n",
       "  's3://cc-download-orbis-global/res_paragraphs_input_llm/48af8983d5ff418c89b01bf5796ca507_255.snappy.parquet',\n",
       "  's3://cc-download-orbis-global/res_paragraphs_input_llm/48af8983d5ff418c89b01bf5796ca507_1704.snappy.parquet',\n",
       "  's3://cc-download-orbis-global/res_paragraphs_input_llm/48af8983d5ff418c89b01bf5796ca507_1239.snappy.parquet',\n",
       "  's3://cc-download-orbis-global/res_paragraphs_input_llm/48af8983d5ff418c89b01bf5796ca507_330.snappy.parquet',\n",
       "  's3://cc-download-orbis-global/res_paragraphs_input_llm/48af8983d5ff418c89b01bf5796ca507_1555.snappy.parquet',\n",
       "  's3://cc-download-orbis-global/res_paragraphs_input_llm/48af8983d5ff418c89b01bf5796ca507_3215.snappy.parquet',\n",
       "  's3://cc-download-orbis-global/res_paragraphs_input_llm/48af8983d5ff418c89b01bf5796ca507_1987.snappy.parquet',\n",
       "  's3://cc-download-orbis-global/res_paragraphs_input_llm/48af8983d5ff418c89b01bf5796ca507_2971.snappy.parquet',\n",
       "  's3://cc-download-orbis-global/res_paragraphs_input_llm/48af8983d5ff418c89b01bf5796ca507_501.snappy.parquet',\n",
       "  's3://cc-download-orbis-global/res_paragraphs_input_llm/48af8983d5ff418c89b01bf5796ca507_4240.snappy.parquet',\n",
       "  's3://cc-download-orbis-global/res_paragraphs_input_llm/48af8983d5ff418c89b01bf5796ca507_2077.snappy.parquet',\n",
       "  's3://cc-download-orbis-global/res_paragraphs_input_llm/48af8983d5ff418c89b01bf5796ca507_3552.snappy.parquet',\n",
       "  's3://cc-download-orbis-global/res_paragraphs_input_llm/48af8983d5ff418c89b01bf5796ca507_4817.snappy.parquet',\n",
       "  's3://cc-download-orbis-global/res_paragraphs_input_llm/48af8983d5ff418c89b01bf5796ca507_2709.snappy.parquet',\n",
       "  's3://cc-download-orbis-global/res_paragraphs_input_llm/48af8983d5ff418c89b01bf5796ca507_645.snappy.parquet',\n",
       "  's3://cc-download-orbis-global/res_paragraphs_input_llm/48af8983d5ff418c89b01bf5796ca507_3169.snappy.parquet',\n",
       "  's3://cc-download-orbis-global/res_paragraphs_input_llm/48af8983d5ff418c89b01bf5796ca507_1949.snappy.parquet',\n",
       "  's3://cc-download-orbis-global/res_paragraphs_input_llm/48af8983d5ff418c89b01bf5796ca507_2618.snappy.parquet',\n",
       "  's3://cc-download-orbis-global/res_paragraphs_input_llm/48af8983d5ff418c89b01bf5796ca507_2527.snappy.parquet',\n",
       "  's3://cc-download-orbis-global/res_paragraphs_input_llm/48af8983d5ff418c89b01bf5796ca507_1574.snappy.parquet',\n",
       "  's3://cc-download-orbis-global/res_paragraphs_input_llm/48af8983d5ff418c89b01bf5796ca507_4971.snappy.parquet',\n",
       "  's3://cc-download-orbis-global/res_paragraphs_input_llm/48af8983d5ff418c89b01bf5796ca507_442.snappy.parquet',\n",
       "  's3://cc-download-orbis-global/res_paragraphs_input_llm/48af8983d5ff418c89b01bf5796ca507_4572.snappy.parquet',\n",
       "  's3://cc-download-orbis-global/res_paragraphs_input_llm/48af8983d5ff418c89b01bf5796ca507_3714.snappy.parquet',\n",
       "  's3://cc-download-orbis-global/res_paragraphs_input_llm/48af8983d5ff418c89b01bf5796ca507_2314.snappy.parquet',\n",
       "  's3://cc-download-orbis-global/res_paragraphs_input_llm/48af8983d5ff418c89b01bf5796ca507_1238.snappy.parquet',\n",
       "  's3://cc-download-orbis-global/res_paragraphs_input_llm/48af8983d5ff418c89b01bf5796ca507_1029.snappy.parquet',\n",
       "  's3://cc-download-orbis-global/res_paragraphs_input_llm/48af8983d5ff418c89b01bf5796ca507_172.snappy.parquet',\n",
       "  's3://cc-download-orbis-global/res_paragraphs_input_llm/48af8983d5ff418c89b01bf5796ca507_2048.snappy.parquet',\n",
       "  's3://cc-download-orbis-global/res_paragraphs_input_llm/48af8983d5ff418c89b01bf5796ca507_4874.snappy.parquet',\n",
       "  's3://cc-download-orbis-global/res_paragraphs_input_llm/48af8983d5ff418c89b01bf5796ca507_996.snappy.parquet',\n",
       "  's3://cc-download-orbis-global/res_paragraphs_input_llm/48af8983d5ff418c89b01bf5796ca507_2938.snappy.parquet',\n",
       "  's3://cc-download-orbis-global/res_paragraphs_input_llm/48af8983d5ff418c89b01bf5796ca507_2584.snappy.parquet',\n",
       "  's3://cc-download-orbis-global/res_paragraphs_input_llm/48af8983d5ff418c89b01bf5796ca507_4530.snappy.parquet',\n",
       "  's3://cc-download-orbis-global/res_paragraphs_input_llm/48af8983d5ff418c89b01bf5796ca507_1329.snappy.parquet',\n",
       "  's3://cc-download-orbis-global/res_paragraphs_input_llm/48af8983d5ff418c89b01bf5796ca507_3716.snappy.parquet',\n",
       "  's3://cc-download-orbis-global/res_paragraphs_input_llm/48af8983d5ff418c89b01bf5796ca507_3739.snappy.parquet',\n",
       "  's3://cc-download-orbis-global/res_paragraphs_input_llm/48af8983d5ff418c89b01bf5796ca507_2851.snappy.parquet',\n",
       "  's3://cc-download-orbis-global/res_paragraphs_input_llm/48af8983d5ff418c89b01bf5796ca507_2229.snappy.parquet',\n",
       "  's3://cc-download-orbis-global/res_paragraphs_input_llm/48af8983d5ff418c89b01bf5796ca507_444.snappy.parquet',\n",
       "  's3://cc-download-orbis-global/res_paragraphs_input_llm/48af8983d5ff418c89b01bf5796ca507_3389.snappy.parquet',\n",
       "  's3://cc-download-orbis-global/res_paragraphs_input_llm/48af8983d5ff418c89b01bf5796ca507_3161.snappy.parquet',\n",
       "  's3://cc-download-orbis-global/res_paragraphs_input_llm/48af8983d5ff418c89b01bf5796ca507_4055.snappy.parquet',\n",
       "  's3://cc-download-orbis-global/res_paragraphs_input_llm/48af8983d5ff418c89b01bf5796ca507_2626.snappy.parquet',\n",
       "  's3://cc-download-orbis-global/res_paragraphs_input_llm/48af8983d5ff418c89b01bf5796ca507_1256.snappy.parquet',\n",
       "  's3://cc-download-orbis-global/res_paragraphs_input_llm/48af8983d5ff418c89b01bf5796ca507_445.snappy.parquet',\n",
       "  's3://cc-download-orbis-global/res_paragraphs_input_llm/48af8983d5ff418c89b01bf5796ca507_4218.snappy.parquet',\n",
       "  's3://cc-download-orbis-global/res_paragraphs_input_llm/48af8983d5ff418c89b01bf5796ca507_1375.snappy.parquet',\n",
       "  's3://cc-download-orbis-global/res_paragraphs_input_llm/48af8983d5ff418c89b01bf5796ca507_447.snappy.parquet',\n",
       "  's3://cc-download-orbis-global/res_paragraphs_input_llm/48af8983d5ff418c89b01bf5796ca507_3932.snappy.parquet',\n",
       "  's3://cc-download-orbis-global/res_paragraphs_input_llm/48af8983d5ff418c89b01bf5796ca507_2850.snappy.parquet',\n",
       "  's3://cc-download-orbis-global/res_paragraphs_input_llm/48af8983d5ff418c89b01bf5796ca507_3374.snappy.parquet',\n",
       "  's3://cc-download-orbis-global/res_paragraphs_input_llm/48af8983d5ff418c89b01bf5796ca507_2012.snappy.parquet',\n",
       "  's3://cc-download-orbis-global/res_paragraphs_input_llm/48af8983d5ff418c89b01bf5796ca507_448.snappy.parquet',\n",
       "  's3://cc-download-orbis-global/res_paragraphs_input_llm/48af8983d5ff418c89b01bf5796ca507_2728.snappy.parquet',\n",
       "  's3://cc-download-orbis-global/res_paragraphs_input_llm/48af8983d5ff418c89b01bf5796ca507_2546.snappy.parquet',\n",
       "  's3://cc-download-orbis-global/res_paragraphs_input_llm/48af8983d5ff418c89b01bf5796ca507_3280.snappy.parquet',\n",
       "  's3://cc-download-orbis-global/res_paragraphs_input_llm/48af8983d5ff418c89b01bf5796ca507_446.snappy.parquet',\n",
       "  's3://cc-download-orbis-global/res_paragraphs_input_llm/48af8983d5ff418c89b01bf5796ca507_3728.snappy.parquet',\n",
       "  's3://cc-download-orbis-global/res_paragraphs_input_llm/48af8983d5ff418c89b01bf5796ca507_2249.snappy.parquet',\n",
       "  's3://cc-download-orbis-global/res_paragraphs_input_llm/48af8983d5ff418c89b01bf5796ca507_1243.snappy.parquet',\n",
       "  's3://cc-download-orbis-global/res_paragraphs_input_llm/48af8983d5ff418c89b01bf5796ca507_1602.snappy.parquet',\n",
       "  's3://cc-download-orbis-global/res_paragraphs_input_llm/48af8983d5ff418c89b01bf5796ca507_580.snappy.parquet',\n",
       "  's3://cc-download-orbis-global/res_paragraphs_input_llm/48af8983d5ff418c89b01bf5796ca507_226.snappy.parquet',\n",
       "  's3://cc-download-orbis-global/res_paragraphs_input_llm/48af8983d5ff418c89b01bf5796ca507_3790.snappy.parquet',\n",
       "  's3://cc-download-orbis-global/res_paragraphs_input_llm/48af8983d5ff418c89b01bf5796ca507_4748.snappy.parquet',\n",
       "  's3://cc-download-orbis-global/res_paragraphs_input_llm/48af8983d5ff418c89b01bf5796ca507_2693.snappy.parquet',\n",
       "  's3://cc-download-orbis-global/res_paragraphs_input_llm/48af8983d5ff418c89b01bf5796ca507_3287.snappy.parquet',\n",
       "  's3://cc-download-orbis-global/res_paragraphs_input_llm/48af8983d5ff418c89b01bf5796ca507_2333.snappy.parquet',\n",
       "  's3://cc-download-orbis-global/res_paragraphs_input_llm/48af8983d5ff418c89b01bf5796ca507_2049.snappy.parquet',\n",
       "  's3://cc-download-orbis-global/res_paragraphs_input_llm/48af8983d5ff418c89b01bf5796ca507_1082.snappy.parquet',\n",
       "  's3://cc-download-orbis-global/res_paragraphs_input_llm/48af8983d5ff418c89b01bf5796ca507_3429.snappy.parquet',\n",
       "  's3://cc-download-orbis-global/res_paragraphs_input_llm/48af8983d5ff418c89b01bf5796ca507_3274.snappy.parquet',\n",
       "  's3://cc-download-orbis-global/res_paragraphs_input_llm/48af8983d5ff418c89b01bf5796ca507_303.snappy.parquet',\n",
       "  's3://cc-download-orbis-global/res_paragraphs_input_llm/48af8983d5ff418c89b01bf5796ca507_2036.snappy.parquet',\n",
       "  's3://cc-download-orbis-global/res_paragraphs_input_llm/48af8983d5ff418c89b01bf5796ca507_3393.snappy.parquet',\n",
       "  's3://cc-download-orbis-global/res_paragraphs_input_llm/48af8983d5ff418c89b01bf5796ca507_2319.snappy.parquet',\n",
       "  's3://cc-download-orbis-global/res_paragraphs_input_llm/48af8983d5ff418c89b01bf5796ca507_2289.snappy.parquet',\n",
       "  's3://cc-download-orbis-global/res_paragraphs_input_llm/48af8983d5ff418c89b01bf5796ca507_4800.snappy.parquet',\n",
       "  's3://cc-download-orbis-global/res_paragraphs_input_llm/48af8983d5ff418c89b01bf5796ca507_1345.snappy.parquet',\n",
       "  's3://cc-download-orbis-global/res_paragraphs_input_llm/48af8983d5ff418c89b01bf5796ca507_1948.snappy.parquet',\n",
       "  's3://cc-download-orbis-global/res_paragraphs_input_llm/48af8983d5ff418c89b01bf5796ca507_998.snappy.parquet',\n",
       "  's3://cc-download-orbis-global/res_paragraphs_input_llm/48af8983d5ff418c89b01bf5796ca507_4314.snappy.parquet',\n",
       "  's3://cc-download-orbis-global/res_paragraphs_input_llm/48af8983d5ff418c89b01bf5796ca507_3633.snappy.parquet',\n",
       "  's3://cc-download-orbis-global/res_paragraphs_input_llm/48af8983d5ff418c89b01bf5796ca507_4754.snappy.parquet',\n",
       "  's3://cc-download-orbis-global/res_paragraphs_input_llm/48af8983d5ff418c89b01bf5796ca507_646.snappy.parquet',\n",
       "  's3://cc-download-orbis-global/res_paragraphs_input_llm/48af8983d5ff418c89b01bf5796ca507_1988.snappy.parquet',\n",
       "  's3://cc-download-orbis-global/res_paragraphs_input_llm/48af8983d5ff418c89b01bf5796ca507_1820.snappy.parquet',\n",
       "  's3://cc-download-orbis-global/res_paragraphs_input_llm/48af8983d5ff418c89b01bf5796ca507_4930.snappy.parquet',\n",
       "  's3://cc-download-orbis-global/res_paragraphs_input_llm/48af8983d5ff418c89b01bf5796ca507_4899.snappy.parquet',\n",
       "  's3://cc-download-orbis-global/res_paragraphs_input_llm/48af8983d5ff418c89b01bf5796ca507_3922.snappy.parquet',\n",
       "  's3://cc-download-orbis-global/res_paragraphs_input_llm/48af8983d5ff418c89b01bf5796ca507_2907.snappy.parquet',\n",
       "  's3://cc-download-orbis-global/res_paragraphs_input_llm/48af8983d5ff418c89b01bf5796ca507_980.snappy.parquet',\n",
       "  's3://cc-download-orbis-global/res_paragraphs_input_llm/48af8983d5ff418c89b01bf5796ca507_3239.snappy.parquet',\n",
       "  's3://cc-download-orbis-global/res_paragraphs_input_llm/48af8983d5ff418c89b01bf5796ca507_2336.snappy.parquet',\n",
       "  's3://cc-download-orbis-global/res_paragraphs_input_llm/48af8983d5ff418c89b01bf5796ca507_3805.snappy.parquet',\n",
       "  's3://cc-download-orbis-global/res_paragraphs_input_llm/48af8983d5ff418c89b01bf5796ca507_4386.snappy.parquet',\n",
       "  's3://cc-download-orbis-global/res_paragraphs_input_llm/48af8983d5ff418c89b01bf5796ca507_3382.snappy.parquet',\n",
       "  's3://cc-download-orbis-global/res_paragraphs_input_llm/48af8983d5ff418c89b01bf5796ca507_2182.snappy.parquet',\n",
       "  's3://cc-download-orbis-global/res_paragraphs_input_llm/48af8983d5ff418c89b01bf5796ca507_4321.snappy.parquet',\n",
       "  's3://cc-download-orbis-global/res_paragraphs_input_llm/48af8983d5ff418c89b01bf5796ca507_2982.snappy.parquet',\n",
       "  's3://cc-download-orbis-global/res_paragraphs_input_llm/48af8983d5ff418c89b01bf5796ca507_4431.snappy.parquet',\n",
       "  's3://cc-download-orbis-global/res_paragraphs_input_llm/48af8983d5ff418c89b01bf5796ca507_3724.snappy.parquet',\n",
       "  's3://cc-download-orbis-global/res_paragraphs_input_llm/48af8983d5ff418c89b01bf5796ca507_929.snappy.parquet',\n",
       "  's3://cc-download-orbis-global/res_paragraphs_input_llm/48af8983d5ff418c89b01bf5796ca507_1339.snappy.parquet',\n",
       "  's3://cc-download-orbis-global/res_paragraphs_input_llm/48af8983d5ff418c89b01bf5796ca507_2105.snappy.parquet',\n",
       "  's3://cc-download-orbis-global/res_paragraphs_input_llm/48af8983d5ff418c89b01bf5796ca507_4242.snappy.parquet',\n",
       "  's3://cc-download-orbis-global/res_paragraphs_input_llm/48af8983d5ff418c89b01bf5796ca507_1447.snappy.parquet',\n",
       "  's3://cc-download-orbis-global/res_paragraphs_input_llm/48af8983d5ff418c89b01bf5796ca507_4219.snappy.parquet',\n",
       "  's3://cc-download-orbis-global/res_paragraphs_input_llm/48af8983d5ff418c89b01bf5796ca507_3806.snappy.parquet',\n",
       "  's3://cc-download-orbis-global/res_paragraphs_input_llm/48af8983d5ff418c89b01bf5796ca507_3160.snappy.parquet',\n",
       "  's3://cc-download-orbis-global/res_paragraphs_input_llm/48af8983d5ff418c89b01bf5796ca507_3279.snappy.parquet',\n",
       "  's3://cc-download-orbis-global/res_paragraphs_input_llm/48af8983d5ff418c89b01bf5796ca507_3777.snappy.parquet',\n",
       "  's3://cc-download-orbis-global/res_paragraphs_input_llm/48af8983d5ff418c89b01bf5796ca507_2602.snappy.parquet',\n",
       "  's3://cc-download-orbis-global/res_paragraphs_input_llm/48af8983d5ff418c89b01bf5796ca507_2255.snappy.parquet',\n",
       "  's3://cc-download-orbis-global/res_paragraphs_input_llm/48af8983d5ff418c89b01bf5796ca507_4228.snappy.parquet',\n",
       "  's3://cc-download-orbis-global/res_paragraphs_input_llm/48af8983d5ff418c89b01bf5796ca507_4233.snappy.parquet',\n",
       "  's3://cc-download-orbis-global/res_paragraphs_input_llm/48af8983d5ff418c89b01bf5796ca507_1546.snappy.parquet',\n",
       "  's3://cc-download-orbis-global/res_paragraphs_input_llm/48af8983d5ff418c89b01bf5796ca507_4161.snappy.parquet',\n",
       "  's3://cc-download-orbis-global/res_paragraphs_input_llm/48af8983d5ff418c89b01bf5796ca507_1284.snappy.parquet',\n",
       "  's3://cc-download-orbis-global/res_paragraphs_input_llm/48af8983d5ff418c89b01bf5796ca507_1119.snappy.parquet',\n",
       "  's3://cc-download-orbis-global/res_paragraphs_input_llm/48af8983d5ff418c89b01bf5796ca507_3397.snappy.parquet',\n",
       "  's3://cc-download-orbis-global/res_paragraphs_input_llm/48af8983d5ff418c89b01bf5796ca507_4823.snappy.parquet',\n",
       "  's3://cc-download-orbis-global/res_paragraphs_input_llm/48af8983d5ff418c89b01bf5796ca507_758.snappy.parquet',\n",
       "  's3://cc-download-orbis-global/res_paragraphs_input_llm/48af8983d5ff418c89b01bf5796ca507_2223.snappy.parquet',\n",
       "  's3://cc-download-orbis-global/res_paragraphs_input_llm/48af8983d5ff418c89b01bf5796ca507_178.snappy.parquet',\n",
       "  's3://cc-download-orbis-global/res_paragraphs_input_llm/48af8983d5ff418c89b01bf5796ca507_4666.snappy.parquet',\n",
       "  's3://cc-download-orbis-global/res_paragraphs_input_llm/48af8983d5ff418c89b01bf5796ca507_3742.snappy.parquet',\n",
       "  's3://cc-download-orbis-global/res_paragraphs_input_llm/48af8983d5ff418c89b01bf5796ca507_173.snappy.parquet',\n",
       "  's3://cc-download-orbis-global/res_paragraphs_input_llm/48af8983d5ff418c89b01bf5796ca507_2687.snappy.parquet',\n",
       "  's3://cc-download-orbis-global/res_paragraphs_input_llm/48af8983d5ff418c89b01bf5796ca507_3734.snappy.parquet',\n",
       "  's3://cc-download-orbis-global/res_paragraphs_input_llm/48af8983d5ff418c89b01bf5796ca507_4915.snappy.parquet',\n",
       "  's3://cc-download-orbis-global/res_paragraphs_input_llm/48af8983d5ff418c89b01bf5796ca507_3162.snappy.parquet',\n",
       "  's3://cc-download-orbis-global/res_paragraphs_input_llm/48af8983d5ff418c89b01bf5796ca507_3137.snappy.parquet',\n",
       "  's3://cc-download-orbis-global/res_paragraphs_input_llm/48af8983d5ff418c89b01bf5796ca507_4847.snappy.parquet',\n",
       "  's3://cc-download-orbis-global/res_paragraphs_input_llm/48af8983d5ff418c89b01bf5796ca507_2691.snappy.parquet',\n",
       "  's3://cc-download-orbis-global/res_paragraphs_input_llm/48af8983d5ff418c89b01bf5796ca507_1818.snappy.parquet',\n",
       "  's3://cc-download-orbis-global/res_paragraphs_input_llm/48af8983d5ff418c89b01bf5796ca507_4502.snappy.parquet',\n",
       "  's3://cc-download-orbis-global/res_paragraphs_input_llm/48af8983d5ff418c89b01bf5796ca507_2083.snappy.parquet',\n",
       "  's3://cc-download-orbis-global/res_paragraphs_input_llm/48af8983d5ff418c89b01bf5796ca507_791.snappy.parquet',\n",
       "  's3://cc-download-orbis-global/res_paragraphs_input_llm/48af8983d5ff418c89b01bf5796ca507_440.snappy.parquet',\n",
       "  's3://cc-download-orbis-global/res_paragraphs_input_llm/48af8983d5ff418c89b01bf5796ca507_2226.snappy.parquet',\n",
       "  's3://cc-download-orbis-global/res_paragraphs_input_llm/48af8983d5ff418c89b01bf5796ca507_4355.snappy.parquet',\n",
       "  's3://cc-download-orbis-global/res_paragraphs_input_llm/48af8983d5ff418c89b01bf5796ca507_2309.snappy.parquet',\n",
       "  's3://cc-download-orbis-global/res_paragraphs_input_llm/48af8983d5ff418c89b01bf5796ca507_3762.snappy.parquet',\n",
       "  's3://cc-download-orbis-global/res_paragraphs_input_llm/48af8983d5ff418c89b01bf5796ca507_3325.snappy.parquet',\n",
       "  's3://cc-download-orbis-global/res_paragraphs_input_llm/48af8983d5ff418c89b01bf5796ca507_3965.snappy.parquet',\n",
       "  's3://cc-download-orbis-global/res_paragraphs_input_llm/48af8983d5ff418c89b01bf5796ca507_2872.snappy.parquet',\n",
       "  's3://cc-download-orbis-global/res_paragraphs_input_llm/48af8983d5ff418c89b01bf5796ca507_3973.snappy.parquet',\n",
       "  's3://cc-download-orbis-global/res_paragraphs_input_llm/48af8983d5ff418c89b01bf5796ca507_1085.snappy.parquet',\n",
       "  's3://cc-download-orbis-global/res_paragraphs_input_llm/48af8983d5ff418c89b01bf5796ca507_1550.snappy.parquet',\n",
       "  's3://cc-download-orbis-global/res_paragraphs_input_llm/48af8983d5ff418c89b01bf5796ca507_1246.snappy.parquet',\n",
       "  's3://cc-download-orbis-global/res_paragraphs_input_llm/48af8983d5ff418c89b01bf5796ca507_2427.snappy.parquet',\n",
       "  's3://cc-download-orbis-global/res_paragraphs_input_llm/48af8983d5ff418c89b01bf5796ca507_4656.snappy.parquet',\n",
       "  's3://cc-download-orbis-global/res_paragraphs_input_llm/48af8983d5ff418c89b01bf5796ca507_694.snappy.parquet',\n",
       "  's3://cc-download-orbis-global/res_paragraphs_input_llm/48af8983d5ff418c89b01bf5796ca507_1385.snappy.parquet',\n",
       "  's3://cc-download-orbis-global/res_paragraphs_input_llm/48af8983d5ff418c89b01bf5796ca507_1499.snappy.parquet',\n",
       "  's3://cc-download-orbis-global/res_paragraphs_input_llm/48af8983d5ff418c89b01bf5796ca507_4429.snappy.parquet',\n",
       "  's3://cc-download-orbis-global/res_paragraphs_input_llm/48af8983d5ff418c89b01bf5796ca507_1532.snappy.parquet',\n",
       "  's3://cc-download-orbis-global/res_paragraphs_input_llm/48af8983d5ff418c89b01bf5796ca507_2284.snappy.parquet',\n",
       "  's3://cc-download-orbis-global/res_paragraphs_input_llm/48af8983d5ff418c89b01bf5796ca507_3207.snappy.parquet',\n",
       "  's3://cc-download-orbis-global/res_paragraphs_input_llm/48af8983d5ff418c89b01bf5796ca507_195.snappy.parquet',\n",
       "  's3://cc-download-orbis-global/res_paragraphs_input_llm/48af8983d5ff418c89b01bf5796ca507_474.snappy.parquet',\n",
       "  's3://cc-download-orbis-global/res_paragraphs_input_llm/48af8983d5ff418c89b01bf5796ca507_171.snappy.parquet',\n",
       "  's3://cc-download-orbis-global/res_paragraphs_input_llm/48af8983d5ff418c89b01bf5796ca507_4511.snappy.parquet',\n",
       "  's3://cc-download-orbis-global/res_paragraphs_input_llm/48af8983d5ff418c89b01bf5796ca507_4368.snappy.parquet',\n",
       "  's3://cc-download-orbis-global/res_paragraphs_input_llm/48af8983d5ff418c89b01bf5796ca507_2000.snappy.parquet',\n",
       "  's3://cc-download-orbis-global/res_paragraphs_input_llm/48af8983d5ff418c89b01bf5796ca507_836.snappy.parquet',\n",
       "  's3://cc-download-orbis-global/res_paragraphs_input_llm/48af8983d5ff418c89b01bf5796ca507_4596.snappy.parquet',\n",
       "  's3://cc-download-orbis-global/res_paragraphs_input_llm/48af8983d5ff418c89b01bf5796ca507_1164.snappy.parquet',\n",
       "  's3://cc-download-orbis-global/res_paragraphs_input_llm/48af8983d5ff418c89b01bf5796ca507_70.snappy.parquet',\n",
       "  's3://cc-download-orbis-global/res_paragraphs_input_llm/48af8983d5ff418c89b01bf5796ca507_1560.snappy.parquet',\n",
       "  's3://cc-download-orbis-global/res_paragraphs_input_llm/48af8983d5ff418c89b01bf5796ca507_1156.snappy.parquet',\n",
       "  's3://cc-download-orbis-global/res_paragraphs_input_llm/48af8983d5ff418c89b01bf5796ca507_3764.snappy.parquet',\n",
       "  's3://cc-download-orbis-global/res_paragraphs_input_llm/48af8983d5ff418c89b01bf5796ca507_1415.snappy.parquet',\n",
       "  's3://cc-download-orbis-global/res_paragraphs_input_llm/48af8983d5ff418c89b01bf5796ca507_1155.snappy.parquet',\n",
       "  's3://cc-download-orbis-global/res_paragraphs_input_llm/48af8983d5ff418c89b01bf5796ca507_3438.snappy.parquet',\n",
       "  's3://cc-download-orbis-global/res_paragraphs_input_llm/48af8983d5ff418c89b01bf5796ca507_2904.snappy.parquet',\n",
       "  's3://cc-download-orbis-global/res_paragraphs_input_llm/48af8983d5ff418c89b01bf5796ca507_3935.snappy.parquet',\n",
       "  's3://cc-download-orbis-global/res_paragraphs_input_llm/48af8983d5ff418c89b01bf5796ca507_3326.snappy.parquet',\n",
       "  's3://cc-download-orbis-global/res_paragraphs_input_llm/48af8983d5ff418c89b01bf5796ca507_2956.snappy.parquet',\n",
       "  's3://cc-download-orbis-global/res_paragraphs_input_llm/48af8983d5ff418c89b01bf5796ca507_3955.snappy.parquet',\n",
       "  's3://cc-download-orbis-global/res_paragraphs_input_llm/48af8983d5ff418c89b01bf5796ca507_4651.snappy.parquet',\n",
       "  's3://cc-download-orbis-global/res_paragraphs_input_llm/48af8983d5ff418c89b01bf5796ca507_1106.snappy.parquet',\n",
       "  's3://cc-download-orbis-global/res_paragraphs_input_llm/48af8983d5ff418c89b01bf5796ca507_3024.snappy.parquet',\n",
       "  's3://cc-download-orbis-global/res_paragraphs_input_llm/48af8983d5ff418c89b01bf5796ca507_4107.snappy.parquet',\n",
       "  's3://cc-download-orbis-global/res_paragraphs_input_llm/48af8983d5ff418c89b01bf5796ca507_4069.snappy.parquet',\n",
       "  's3://cc-download-orbis-global/res_paragraphs_input_llm/48af8983d5ff418c89b01bf5796ca507_1409.snappy.parquet',\n",
       "  's3://cc-download-orbis-global/res_paragraphs_input_llm/48af8983d5ff418c89b01bf5796ca507_1222.snappy.parquet',\n",
       "  's3://cc-download-orbis-global/res_paragraphs_input_llm/48af8983d5ff418c89b01bf5796ca507_253.snappy.parquet',\n",
       "  's3://cc-download-orbis-global/res_paragraphs_input_llm/48af8983d5ff418c89b01bf5796ca507_3205.snappy.parquet',\n",
       "  's3://cc-download-orbis-global/res_paragraphs_input_llm/48af8983d5ff418c89b01bf5796ca507_4503.snappy.parquet',\n",
       "  's3://cc-download-orbis-global/res_paragraphs_input_llm/48af8983d5ff418c89b01bf5796ca507_1781.snappy.parquet',\n",
       "  's3://cc-download-orbis-global/res_paragraphs_input_llm/48af8983d5ff418c89b01bf5796ca507_2803.snappy.parquet',\n",
       "  's3://cc-download-orbis-global/res_paragraphs_input_llm/48af8983d5ff418c89b01bf5796ca507_4509.snappy.parquet',\n",
       "  's3://cc-download-orbis-global/res_paragraphs_input_llm/48af8983d5ff418c89b01bf5796ca507_2955.snappy.parquet',\n",
       "  's3://cc-download-orbis-global/res_paragraphs_input_llm/48af8983d5ff418c89b01bf5796ca507_1884.snappy.parquet',\n",
       "  's3://cc-download-orbis-global/res_paragraphs_input_llm/48af8983d5ff418c89b01bf5796ca507_1269.snappy.parquet',\n",
       "  's3://cc-download-orbis-global/res_paragraphs_input_llm/48af8983d5ff418c89b01bf5796ca507_4980.snappy.parquet',\n",
       "  's3://cc-download-orbis-global/res_paragraphs_input_llm/48af8983d5ff418c89b01bf5796ca507_1782.snappy.parquet',\n",
       "  's3://cc-download-orbis-global/res_paragraphs_input_llm/48af8983d5ff418c89b01bf5796ca507_540.snappy.parquet',\n",
       "  's3://cc-download-orbis-global/res_paragraphs_input_llm/48af8983d5ff418c89b01bf5796ca507_3055.snappy.parquet',\n",
       "  's3://cc-download-orbis-global/res_paragraphs_input_llm/48af8983d5ff418c89b01bf5796ca507_4068.snappy.parquet',\n",
       "  's3://cc-download-orbis-global/res_paragraphs_input_llm/48af8983d5ff418c89b01bf5796ca507_1221.snappy.parquet',\n",
       "  's3://cc-download-orbis-global/res_paragraphs_input_llm/48af8983d5ff418c89b01bf5796ca507_2952.snappy.parquet',\n",
       "  's3://cc-download-orbis-global/res_paragraphs_input_llm/48af8983d5ff418c89b01bf5796ca507_4468.snappy.parquet',\n",
       "  's3://cc-download-orbis-global/res_paragraphs_input_llm/48af8983d5ff418c89b01bf5796ca507_2411.snappy.parquet',\n",
       "  's3://cc-download-orbis-global/res_paragraphs_input_llm/48af8983d5ff418c89b01bf5796ca507_1881.snappy.parquet',\n",
       "  's3://cc-download-orbis-global/res_paragraphs_input_llm/48af8983d5ff418c89b01bf5796ca507_3431.snappy.parquet',\n",
       "  's3://cc-download-orbis-global/res_paragraphs_input_llm/48af8983d5ff418c89b01bf5796ca507_475.snappy.parquet',\n",
       "  's3://cc-download-orbis-global/res_paragraphs_input_llm/48af8983d5ff418c89b01bf5796ca507_4255.snappy.parquet',\n",
       "  's3://cc-download-orbis-global/res_paragraphs_input_llm/48af8983d5ff418c89b01bf5796ca507_4430.snappy.parquet',\n",
       "  's3://cc-download-orbis-global/res_paragraphs_input_llm/48af8983d5ff418c89b01bf5796ca507_2860.snappy.parquet',\n",
       "  's3://cc-download-orbis-global/res_paragraphs_input_llm/48af8983d5ff418c89b01bf5796ca507_4409.snappy.parquet',\n",
       "  's3://cc-download-orbis-global/res_paragraphs_input_llm/48af8983d5ff418c89b01bf5796ca507_650.snappy.parquet',\n",
       "  's3://cc-download-orbis-global/res_paragraphs_input_llm/48af8983d5ff418c89b01bf5796ca507_4602.snappy.parquet',\n",
       "  's3://cc-download-orbis-global/res_paragraphs_input_llm/48af8983d5ff418c89b01bf5796ca507_3767.snappy.parquet',\n",
       "  's3://cc-download-orbis-global/res_paragraphs_input_llm/48af8983d5ff418c89b01bf5796ca507_3651.snappy.parquet',\n",
       "  's3://cc-download-orbis-global/res_paragraphs_input_llm/48af8983d5ff418c89b01bf5796ca507_3122.snappy.parquet',\n",
       "  's3://cc-download-orbis-global/res_paragraphs_input_llm/48af8983d5ff418c89b01bf5796ca507_4443.snappy.parquet',\n",
       "  's3://cc-download-orbis-global/res_paragraphs_input_llm/48af8983d5ff418c89b01bf5796ca507_1529.snappy.parquet',\n",
       "  's3://cc-download-orbis-global/res_paragraphs_input_llm/48af8983d5ff418c89b01bf5796ca507_3106.snappy.parquet',\n",
       "  's3://cc-download-orbis-global/res_paragraphs_input_llm/48af8983d5ff418c89b01bf5796ca507_1414.snappy.parquet',\n",
       "  's3://cc-download-orbis-global/res_paragraphs_input_llm/48af8983d5ff418c89b01bf5796ca507_52.snappy.parquet',\n",
       "  's3://cc-download-orbis-global/res_paragraphs_input_llm/48af8983d5ff418c89b01bf5796ca507_3765.snappy.parquet',\n",
       "  's3://cc-download-orbis-global/res_paragraphs_input_llm/48af8983d5ff418c89b01bf5796ca507_3193.snappy.parquet',\n",
       "  's3://cc-download-orbis-global/res_paragraphs_input_llm/48af8983d5ff418c89b01bf5796ca507_2461.snappy.parquet',\n",
       "  's3://cc-download-orbis-global/res_paragraphs_input_llm/48af8983d5ff418c89b01bf5796ca507_1851.snappy.parquet',\n",
       "  's3://cc-download-orbis-global/res_paragraphs_input_llm/48af8983d5ff418c89b01bf5796ca507_3267.snappy.parquet',\n",
       "  's3://cc-download-orbis-global/res_paragraphs_input_llm/48af8983d5ff418c89b01bf5796ca507_1070.snappy.parquet',\n",
       "  's3://cc-download-orbis-global/res_paragraphs_input_llm/48af8983d5ff418c89b01bf5796ca507_1412.snappy.parquet',\n",
       "  's3://cc-download-orbis-global/res_paragraphs_input_llm/48af8983d5ff418c89b01bf5796ca507_2392.snappy.parquet',\n",
       "  's3://cc-download-orbis-global/res_paragraphs_input_llm/48af8983d5ff418c89b01bf5796ca507_1464.snappy.parquet',\n",
       "  's3://cc-download-orbis-global/res_paragraphs_input_llm/48af8983d5ff418c89b01bf5796ca507_3054.snappy.parquet',\n",
       "  's3://cc-download-orbis-global/res_paragraphs_input_llm/48af8983d5ff418c89b01bf5796ca507_4807.snappy.parquet',\n",
       "  's3://cc-download-orbis-global/res_paragraphs_input_llm/48af8983d5ff418c89b01bf5796ca507_1418.snappy.parquet',\n",
       "  's3://cc-download-orbis-global/res_paragraphs_input_llm/48af8983d5ff418c89b01bf5796ca507_3860.snappy.parquet',\n",
       "  's3://cc-download-orbis-global/res_paragraphs_input_llm/48af8983d5ff418c89b01bf5796ca507_4791.snappy.parquet',\n",
       "  's3://cc-download-orbis-global/res_paragraphs_input_llm/48af8983d5ff418c89b01bf5796ca507_4876.snappy.parquet',\n",
       "  's3://cc-download-orbis-global/res_paragraphs_input_llm/48af8983d5ff418c89b01bf5796ca507_2991.snappy.parquet',\n",
       "  's3://cc-download-orbis-global/res_paragraphs_input_llm/48af8983d5ff418c89b01bf5796ca507_1401.snappy.parquet',\n",
       "  's3://cc-download-orbis-global/res_paragraphs_input_llm/48af8983d5ff418c89b01bf5796ca507_1249.snappy.parquet',\n",
       "  's3://cc-download-orbis-global/res_paragraphs_input_llm/48af8983d5ff418c89b01bf5796ca507_2808.snappy.parquet',\n",
       "  's3://cc-download-orbis-global/res_paragraphs_input_llm/48af8983d5ff418c89b01bf5796ca507_1198.snappy.parquet',\n",
       "  's3://cc-download-orbis-global/res_paragraphs_input_llm/48af8983d5ff418c89b01bf5796ca507_2320.snappy.parquet',\n",
       "  's3://cc-download-orbis-global/res_paragraphs_input_llm/48af8983d5ff418c89b01bf5796ca507_1161.snappy.parquet',\n",
       "  's3://cc-download-orbis-global/res_paragraphs_input_llm/48af8983d5ff418c89b01bf5796ca507_2641.snappy.parquet',\n",
       "  's3://cc-download-orbis-global/res_paragraphs_input_llm/48af8983d5ff418c89b01bf5796ca507_4797.snappy.parquet',\n",
       "  's3://cc-download-orbis-global/res_paragraphs_input_llm/48af8983d5ff418c89b01bf5796ca507_419.snappy.parquet',\n",
       "  's3://cc-download-orbis-global/res_paragraphs_input_llm/48af8983d5ff418c89b01bf5796ca507_1785.snappy.parquet',\n",
       "  's3://cc-download-orbis-global/res_paragraphs_input_llm/48af8983d5ff418c89b01bf5796ca507_1078.snappy.parquet',\n",
       "  's3://cc-download-orbis-global/res_paragraphs_input_llm/48af8983d5ff418c89b01bf5796ca507_541.snappy.parquet',\n",
       "  's3://cc-download-orbis-global/res_paragraphs_input_llm/48af8983d5ff418c89b01bf5796ca507_2010.snappy.parquet',\n",
       "  's3://cc-download-orbis-global/res_paragraphs_input_llm/48af8983d5ff418c89b01bf5796ca507_3483.snappy.parquet',\n",
       "  's3://cc-download-orbis-global/res_paragraphs_input_llm/48af8983d5ff418c89b01bf5796ca507_2029.snappy.parquet',\n",
       "  's3://cc-download-orbis-global/res_paragraphs_input_llm/48af8983d5ff418c89b01bf5796ca507_3329.snappy.parquet',\n",
       "  's3://cc-download-orbis-global/res_paragraphs_input_llm/48af8983d5ff418c89b01bf5796ca507_3028.snappy.parquet',\n",
       "  's3://cc-download-orbis-global/res_paragraphs_input_llm/48af8983d5ff418c89b01bf5796ca507_1219.snappy.parquet',\n",
       "  's3://cc-download-orbis-global/res_paragraphs_input_llm/48af8983d5ff418c89b01bf5796ca507_2730.snappy.parquet',\n",
       "  's3://cc-download-orbis-global/res_paragraphs_input_llm/48af8983d5ff418c89b01bf5796ca507_3023.snappy.parquet',\n",
       "  's3://cc-download-orbis-global/res_paragraphs_input_llm/48af8983d5ff418c89b01bf5796ca507_2756.snappy.parquet',\n",
       "  's3://cc-download-orbis-global/res_paragraphs_input_llm/48af8983d5ff418c89b01bf5796ca507_2121.snappy.parquet',\n",
       "  's3://cc-download-orbis-global/res_paragraphs_input_llm/48af8983d5ff418c89b01bf5796ca507_418.snappy.parquet',\n",
       "  's3://cc-download-orbis-global/res_paragraphs_input_llm/48af8983d5ff418c89b01bf5796ca507_1411.snappy.parquet',\n",
       "  's3://cc-download-orbis-global/res_paragraphs_input_llm/48af8983d5ff418c89b01bf5796ca507_285.snappy.parquet',\n",
       "  's3://cc-download-orbis-global/res_paragraphs_input_llm/48af8983d5ff418c89b01bf5796ca507_383.snappy.parquet',\n",
       "  's3://cc-download-orbis-global/res_paragraphs_input_llm/48af8983d5ff418c89b01bf5796ca507_2861.snappy.parquet',\n",
       "  's3://cc-download-orbis-global/res_paragraphs_input_llm/48af8983d5ff418c89b01bf5796ca507_2716.snappy.parquet',\n",
       "  's3://cc-download-orbis-global/res_paragraphs_input_llm/48af8983d5ff418c89b01bf5796ca507_384.snappy.parquet',\n",
       "  's3://cc-download-orbis-global/res_paragraphs_input_llm/48af8983d5ff418c89b01bf5796ca507_245.snappy.parquet',\n",
       "  's3://cc-download-orbis-global/res_paragraphs_input_llm/48af8983d5ff418c89b01bf5796ca507_2274.snappy.parquet',\n",
       "  's3://cc-download-orbis-global/res_paragraphs_input_llm/48af8983d5ff418c89b01bf5796ca507_417.snappy.parquet',\n",
       "  's3://cc-download-orbis-global/res_paragraphs_input_llm/48af8983d5ff418c89b01bf5796ca507_3801.snappy.parquet',\n",
       "  's3://cc-download-orbis-global/res_paragraphs_input_llm/48af8983d5ff418c89b01bf5796ca507_4467.snappy.parquet',\n",
       "  's3://cc-download-orbis-global/res_paragraphs_input_llm/48af8983d5ff418c89b01bf5796ca507_1589.snappy.parquet',\n",
       "  's3://cc-download-orbis-global/res_paragraphs_input_llm/48af8983d5ff418c89b01bf5796ca507_3763.snappy.parquet',\n",
       "  's3://cc-download-orbis-global/res_paragraphs_input_llm/48af8983d5ff418c89b01bf5796ca507_1163.snappy.parquet',\n",
       "  's3://cc-download-orbis-global/res_paragraphs_input_llm/48af8983d5ff418c89b01bf5796ca507_416.snappy.parquet',\n",
       "  's3://cc-download-orbis-global/res_paragraphs_input_llm/48af8983d5ff418c89b01bf5796ca507_233.snappy.parquet',\n",
       "  's3://cc-download-orbis-global/res_paragraphs_input_llm/48af8983d5ff418c89b01bf5796ca507_284.snappy.parquet',\n",
       "  's3://cc-download-orbis-global/res_paragraphs_input_llm/48af8983d5ff418c89b01bf5796ca507_1784.snappy.parquet',\n",
       "  's3://cc-download-orbis-global/res_paragraphs_input_llm/48af8983d5ff418c89b01bf5796ca507_1556.snappy.parquet',\n",
       "  's3://cc-download-orbis-global/res_paragraphs_input_llm/48af8983d5ff418c89b01bf5796ca507_385.snappy.parquet',\n",
       "  's3://cc-download-orbis-global/res_paragraphs_input_llm/48af8983d5ff418c89b01bf5796ca507_4169.snappy.parquet',\n",
       "  's3://cc-download-orbis-global/res_paragraphs_input_llm/48af8983d5ff418c89b01bf5796ca507_3989.snappy.parquet',\n",
       "  's3://cc-download-orbis-global/res_paragraphs_input_llm/48af8983d5ff418c89b01bf5796ca507_1162.snappy.parquet',\n",
       "  's3://cc-download-orbis-global/res_paragraphs_input_llm/48af8983d5ff418c89b01bf5796ca507_2953.snappy.parquet',\n",
       "  's3://cc-download-orbis-global/res_paragraphs_input_llm/48af8983d5ff418c89b01bf5796ca507_854.snappy.parquet',\n",
       "  's3://cc-download-orbis-global/res_paragraphs_input_llm/48af8983d5ff418c89b01bf5796ca507_391.snappy.parquet',\n",
       "  's3://cc-download-orbis-global/res_paragraphs_input_llm/48af8983d5ff418c89b01bf5796ca507_1028.snappy.parquet',\n",
       "  's3://cc-download-orbis-global/res_paragraphs_input_llm/48af8983d5ff418c89b01bf5796ca507_1413.snappy.parquet',\n",
       "  's3://cc-download-orbis-global/res_paragraphs_input_llm/48af8983d5ff418c89b01bf5796ca507_3430.snappy.parquet',\n",
       "  's3://cc-download-orbis-global/res_paragraphs_input_llm/48af8983d5ff418c89b01bf5796ca507_2864.snappy.parquet',\n",
       "  's3://cc-download-orbis-global/res_paragraphs_input_llm/48af8983d5ff418c89b01bf5796ca507_2008.snappy.parquet',\n",
       "  's3://cc-download-orbis-global/res_paragraphs_input_llm/48af8983d5ff418c89b01bf5796ca507_4410.snappy.parquet',\n",
       "  's3://cc-download-orbis-global/res_paragraphs_input_llm/48af8983d5ff418c89b01bf5796ca507_190.snappy.parquet',\n",
       "  's3://cc-download-orbis-global/res_paragraphs_input_llm/48af8983d5ff418c89b01bf5796ca507_54.snappy.parquet',\n",
       "  's3://cc-download-orbis-global/res_paragraphs_input_llm/48af8983d5ff418c89b01bf5796ca507_4154.snappy.parquet',\n",
       "  's3://cc-download-orbis-global/res_paragraphs_input_llm/48af8983d5ff418c89b01bf5796ca507_55.snappy.parquet',\n",
       "  's3://cc-download-orbis-global/res_paragraphs_input_llm/48af8983d5ff418c89b01bf5796ca507_1218.snappy.parquet',\n",
       "  's3://cc-download-orbis-global/res_paragraphs_input_llm/48af8983d5ff418c89b01bf5796ca507_2912.snappy.parquet',\n",
       "  's3://cc-download-orbis-global/res_paragraphs_input_llm/48af8983d5ff418c89b01bf5796ca507_542.snappy.parquet',\n",
       "  's3://cc-download-orbis-global/res_paragraphs_input_llm/48af8983d5ff418c89b01bf5796ca507_3956.snappy.parquet',\n",
       "  's3://cc-download-orbis-global/res_paragraphs_input_llm/48af8983d5ff418c89b01bf5796ca507_4657.snappy.parquet',\n",
       "  's3://cc-download-orbis-global/res_paragraphs_input_llm/48af8983d5ff418c89b01bf5796ca507_3548.snappy.parquet',\n",
       "  's3://cc-download-orbis-global/res_paragraphs_input_llm/48af8983d5ff418c89b01bf5796ca507_867.snappy.parquet',\n",
       "  's3://cc-download-orbis-global/res_paragraphs_input_llm/48af8983d5ff418c89b01bf5796ca507_2009.snappy.parquet',\n",
       "  's3://cc-download-orbis-global/res_paragraphs_input_llm/48af8983d5ff418c89b01bf5796ca507_3474.snappy.parquet',\n",
       "  's3://cc-download-orbis-global/res_paragraphs_input_llm/48af8983d5ff418c89b01bf5796ca507_2460.snappy.parquet',\n",
       "  's3://cc-download-orbis-global/res_paragraphs_input_llm/48af8983d5ff418c89b01bf5796ca507_439.snappy.parquet',\n",
       "  's3://cc-download-orbis-global/res_paragraphs_input_llm/48af8983d5ff418c89b01bf5796ca507_1416.snappy.parquet',\n",
       "  's3://cc-download-orbis-global/res_paragraphs_input_llm/48af8983d5ff418c89b01bf5796ca507_4966.snappy.parquet',\n",
       "  's3://cc-download-orbis-global/res_paragraphs_input_llm/48af8983d5ff418c89b01bf5796ca507_441.snappy.parquet',\n",
       "  's3://cc-download-orbis-global/res_paragraphs_input_llm/48af8983d5ff418c89b01bf5796ca507_3874.snappy.parquet',\n",
       "  's3://cc-download-orbis-global/res_paragraphs_input_llm/48af8983d5ff418c89b01bf5796ca507_3673.snappy.parquet',\n",
       "  's3://cc-download-orbis-global/res_paragraphs_input_llm/48af8983d5ff418c89b01bf5796ca507_4132.snappy.parquet',\n",
       "  's3://cc-download-orbis-global/res_paragraphs_input_llm/48af8983d5ff418c89b01bf5796ca507_4599.snappy.parquet',\n",
       "  's3://cc-download-orbis-global/res_paragraphs_input_llm/48af8983d5ff418c89b01bf5796ca507_415.snappy.parquet',\n",
       "  's3://cc-download-orbis-global/res_paragraphs_input_llm/48af8983d5ff418c89b01bf5796ca507_4116.snappy.parquet',\n",
       "  's3://cc-download-orbis-global/res_paragraphs_input_llm/48af8983d5ff418c89b01bf5796ca507_2875.snappy.parquet',\n",
       "  's3://cc-download-orbis-global/res_paragraphs_input_llm/48af8983d5ff418c89b01bf5796ca507_3766.snappy.parquet',\n",
       "  's3://cc-download-orbis-global/res_paragraphs_input_llm/48af8983d5ff418c89b01bf5796ca507_4466.snappy.parquet',\n",
       "  's3://cc-download-orbis-global/res_paragraphs_input_llm/48af8983d5ff418c89b01bf5796ca507_1783.snappy.parquet',\n",
       "  's3://cc-download-orbis-global/res_paragraphs_input_llm/48af8983d5ff418c89b01bf5796ca507_1636.snappy.parquet',\n",
       "  's3://cc-download-orbis-global/res_paragraphs_input_llm/48af8983d5ff418c89b01bf5796ca507_4076.snappy.parquet',\n",
       "  's3://cc-download-orbis-global/res_paragraphs_input_llm/48af8983d5ff418c89b01bf5796ca507_1417.snappy.parquet',\n",
       "  's3://cc-download-orbis-global/res_paragraphs_input_llm/48af8983d5ff418c89b01bf5796ca507_3119.snappy.parquet',\n",
       "  's3://cc-download-orbis-global/res_paragraphs_input_llm/48af8983d5ff418c89b01bf5796ca507_4026.snappy.parquet',\n",
       "  's3://cc-download-orbis-global/res_paragraphs_input_llm/48af8983d5ff418c89b01bf5796ca507_422.snappy.parquet',\n",
       "  's3://cc-download-orbis-global/res_paragraphs_input_llm/48af8983d5ff418c89b01bf5796ca507_1999.snappy.parquet',\n",
       "  's3://cc-download-orbis-global/res_paragraphs_input_llm/48af8983d5ff418c89b01bf5796ca507_423.snappy.parquet',\n",
       "  's3://cc-download-orbis-global/res_paragraphs_input_llm/48af8983d5ff418c89b01bf5796ca507_3663.snappy.parquet',\n",
       "  's3://cc-download-orbis-global/res_paragraphs_input_llm/48af8983d5ff418c89b01bf5796ca507_4566.snappy.parquet',\n",
       "  's3://cc-download-orbis-global/res_paragraphs_input_llm/48af8983d5ff418c89b01bf5796ca507_1271.snappy.parquet',\n",
       "  's3://cc-download-orbis-global/res_paragraphs_input_llm/48af8983d5ff418c89b01bf5796ca507_1220.snappy.parquet',\n",
       "  's3://cc-download-orbis-global/res_paragraphs_input_llm/48af8983d5ff418c89b01bf5796ca507_649.snappy.parquet',\n",
       "  's3://cc-download-orbis-global/res_paragraphs_input_llm/48af8983d5ff418c89b01bf5796ca507_62.snappy.parquet',\n",
       "  's3://cc-download-orbis-global/res_paragraphs_input_llm/48af8983d5ff418c89b01bf5796ca507_420.snappy.parquet',\n",
       "  's3://cc-download-orbis-global/res_paragraphs_input_llm/48af8983d5ff418c89b01bf5796ca507_170.snappy.parquet',\n",
       "  's3://cc-download-orbis-global/res_paragraphs_input_llm/48af8983d5ff418c89b01bf5796ca507_421.snappy.parquet',\n",
       "  's3://cc-download-orbis-global/res_paragraphs_input_llm/48af8983d5ff418c89b01bf5796ca507_550.snappy.parquet',\n",
       "  's3://cc-download-orbis-global/res_paragraphs_input_llm/48af8983d5ff418c89b01bf5796ca507_1406.snappy.parquet',\n",
       "  's3://cc-download-orbis-global/res_paragraphs_input_llm/48af8983d5ff418c89b01bf5796ca507_913.snappy.parquet',\n",
       "  's3://cc-download-orbis-global/res_paragraphs_input_llm/48af8983d5ff418c89b01bf5796ca507_3453.snappy.parquet',\n",
       "  's3://cc-download-orbis-global/res_paragraphs_input_llm/48af8983d5ff418c89b01bf5796ca507_708.snappy.parquet',\n",
       "  's3://cc-download-orbis-global/res_paragraphs_input_llm/48af8983d5ff418c89b01bf5796ca507_1849.snappy.parquet',\n",
       "  's3://cc-download-orbis-global/res_paragraphs_input_llm/48af8983d5ff418c89b01bf5796ca507_4767.snappy.parquet',\n",
       "  's3://cc-download-orbis-global/res_paragraphs_input_llm/48af8983d5ff418c89b01bf5796ca507_3699.snappy.parquet',\n",
       "  's3://cc-download-orbis-global/res_paragraphs_input_llm/48af8983d5ff418c89b01bf5796ca507_2414.snappy.parquet',\n",
       "  's3://cc-download-orbis-global/res_paragraphs_input_llm/48af8983d5ff418c89b01bf5796ca507_2266.snappy.parquet',\n",
       "  's3://cc-download-orbis-global/res_paragraphs_input_llm/48af8983d5ff418c89b01bf5796ca507_4559.snappy.parquet',\n",
       "  's3://cc-download-orbis-global/res_paragraphs_input_llm/48af8983d5ff418c89b01bf5796ca507_3242.snappy.parquet',\n",
       "  's3://cc-download-orbis-global/res_paragraphs_input_llm/48af8983d5ff418c89b01bf5796ca507_2534.snappy.parquet',\n",
       "  's3://cc-download-orbis-global/res_paragraphs_input_llm/48af8983d5ff418c89b01bf5796ca507_2413.snappy.parquet',\n",
       "  's3://cc-download-orbis-global/res_paragraphs_input_llm/48af8983d5ff418c89b01bf5796ca507_3863.snappy.parquet',\n",
       "  's3://cc-download-orbis-global/res_paragraphs_input_llm/48af8983d5ff418c89b01bf5796ca507_2492.snappy.parquet',\n",
       "  's3://cc-download-orbis-global/res_paragraphs_input_llm/48af8983d5ff418c89b01bf5796ca507_1846.snappy.parquet',\n",
       "  's3://cc-download-orbis-global/res_paragraphs_input_llm/48af8983d5ff418c89b01bf5796ca507_4799.snappy.parquet',\n",
       "  's3://cc-download-orbis-global/res_paragraphs_input_llm/48af8983d5ff418c89b01bf5796ca507_4281.snappy.parquet',\n",
       "  's3://cc-download-orbis-global/res_paragraphs_input_llm/48af8983d5ff418c89b01bf5796ca507_4197.snappy.parquet',\n",
       "  's3://cc-download-orbis-global/res_paragraphs_input_llm/48af8983d5ff418c89b01bf5796ca507_549.snappy.parquet',\n",
       "  's3://cc-download-orbis-global/res_paragraphs_input_llm/48af8983d5ff418c89b01bf5796ca507_4225.snappy.parquet',\n",
       "  's3://cc-download-orbis-global/res_paragraphs_input_llm/48af8983d5ff418c89b01bf5796ca507_1052.snappy.parquet',\n",
       "  's3://cc-download-orbis-global/res_paragraphs_input_llm/48af8983d5ff418c89b01bf5796ca507_2964.snappy.parquet',\n",
       "  's3://cc-download-orbis-global/res_paragraphs_input_llm/48af8983d5ff418c89b01bf5796ca507_386.snappy.parquet',\n",
       "  's3://cc-download-orbis-global/res_paragraphs_input_llm/48af8983d5ff418c89b01bf5796ca507_577.snappy.parquet',\n",
       "  's3://cc-download-orbis-global/res_paragraphs_input_llm/48af8983d5ff418c89b01bf5796ca507_332.snappy.parquet',\n",
       "  's3://cc-download-orbis-global/res_paragraphs_input_llm/48af8983d5ff418c89b01bf5796ca507_1848.snappy.parquet',\n",
       "  's3://cc-download-orbis-global/res_paragraphs_input_llm/48af8983d5ff418c89b01bf5796ca507_4176.snappy.parquet',\n",
       "  's3://cc-download-orbis-global/res_paragraphs_input_llm/48af8983d5ff418c89b01bf5796ca507_4779.snappy.parquet',\n",
       "  's3://cc-download-orbis-global/res_paragraphs_input_llm/48af8983d5ff418c89b01bf5796ca507_4170.snappy.parquet',\n",
       "  's3://cc-download-orbis-global/res_paragraphs_input_llm/48af8983d5ff418c89b01bf5796ca507_1061.snappy.parquet',\n",
       "  's3://cc-download-orbis-global/res_paragraphs_input_llm/48af8983d5ff418c89b01bf5796ca507_3246.snappy.parquet',\n",
       "  's3://cc-download-orbis-global/res_paragraphs_input_llm/48af8983d5ff418c89b01bf5796ca507_2504.snappy.parquet',\n",
       "  's3://cc-download-orbis-global/res_paragraphs_input_llm/48af8983d5ff418c89b01bf5796ca507_4291.snappy.parquet',\n",
       "  's3://cc-download-orbis-global/res_paragraphs_input_llm/48af8983d5ff418c89b01bf5796ca507_1729.snappy.parquet',\n",
       "  's3://cc-download-orbis-global/res_paragraphs_input_llm/48af8983d5ff418c89b01bf5796ca507_1394.snappy.parquet',\n",
       "  's3://cc-download-orbis-global/res_paragraphs_input_llm/48af8983d5ff418c89b01bf5796ca507_4111.snappy.parquet',\n",
       "  's3://cc-download-orbis-global/res_paragraphs_input_llm/48af8983d5ff418c89b01bf5796ca507_4004.snappy.parquet',\n",
       "  's3://cc-download-orbis-global/res_paragraphs_input_llm/48af8983d5ff418c89b01bf5796ca507_828.snappy.parquet',\n",
       "  's3://cc-download-orbis-global/res_paragraphs_input_llm/48af8983d5ff418c89b01bf5796ca507_706.snappy.parquet',\n",
       "  's3://cc-download-orbis-global/res_paragraphs_input_llm/48af8983d5ff418c89b01bf5796ca507_1057.snappy.parquet',\n",
       "  's3://cc-download-orbis-global/res_paragraphs_input_llm/48af8983d5ff418c89b01bf5796ca507_2625.snappy.parquet',\n",
       "  's3://cc-download-orbis-global/res_paragraphs_input_llm/48af8983d5ff418c89b01bf5796ca507_2612.snappy.parquet',\n",
       "  's3://cc-download-orbis-global/res_paragraphs_input_llm/48af8983d5ff418c89b01bf5796ca507_4689.snappy.parquet',\n",
       "  's3://cc-download-orbis-global/res_paragraphs_input_llm/48af8983d5ff418c89b01bf5796ca507_3343.snappy.parquet',\n",
       "  's3://cc-download-orbis-global/res_paragraphs_input_llm/48af8983d5ff418c89b01bf5796ca507_1510.snappy.parquet',\n",
       "  's3://cc-download-orbis-global/res_paragraphs_input_llm/48af8983d5ff418c89b01bf5796ca507_4372.snappy.parquet',\n",
       "  's3://cc-download-orbis-global/res_paragraphs_input_llm/48af8983d5ff418c89b01bf5796ca507_4020.snappy.parquet',\n",
       "  's3://cc-download-orbis-global/res_paragraphs_input_llm/48af8983d5ff418c89b01bf5796ca507_3821.snappy.parquet',\n",
       "  's3://cc-download-orbis-global/res_paragraphs_input_llm/48af8983d5ff418c89b01bf5796ca507_4957.snappy.parquet',\n",
       "  's3://cc-download-orbis-global/res_paragraphs_input_llm/48af8983d5ff418c89b01bf5796ca507_2967.snappy.parquet',\n",
       "  's3://cc-download-orbis-global/res_paragraphs_input_llm/48af8983d5ff418c89b01bf5796ca507_707.snappy.parquet',\n",
       "  's3://cc-download-orbis-global/res_paragraphs_input_llm/48af8983d5ff418c89b01bf5796ca507_1050.snappy.parquet',\n",
       "  's3://cc-download-orbis-global/res_paragraphs_input_llm/48af8983d5ff418c89b01bf5796ca507_2064.snappy.parquet',\n",
       "  's3://cc-download-orbis-global/res_paragraphs_input_llm/48af8983d5ff418c89b01bf5796ca507_2892.snappy.parquet',\n",
       "  's3://cc-download-orbis-global/res_paragraphs_input_llm/48af8983d5ff418c89b01bf5796ca507_3735.snappy.parquet',\n",
       "  's3://cc-download-orbis-global/res_paragraphs_input_llm/48af8983d5ff418c89b01bf5796ca507_960.snappy.parquet',\n",
       "  's3://cc-download-orbis-global/res_paragraphs_input_llm/48af8983d5ff418c89b01bf5796ca507_1476.snappy.parquet',\n",
       "  's3://cc-download-orbis-global/res_paragraphs_input_llm/48af8983d5ff418c89b01bf5796ca507_704.snappy.parquet',\n",
       "  's3://cc-download-orbis-global/res_paragraphs_input_llm/48af8983d5ff418c89b01bf5796ca507_4633.snappy.parquet',\n",
       "  's3://cc-download-orbis-global/res_paragraphs_input_llm/48af8983d5ff418c89b01bf5796ca507_936.snappy.parquet',\n",
       "  's3://cc-download-orbis-global/res_paragraphs_input_llm/48af8983d5ff418c89b01bf5796ca507_3363.snappy.parquet',\n",
       "  's3://cc-download-orbis-global/res_paragraphs_input_llm/48af8983d5ff418c89b01bf5796ca507_2027.snappy.parquet',\n",
       "  's3://cc-download-orbis-global/res_paragraphs_input_llm/48af8983d5ff418c89b01bf5796ca507_912.snappy.parquet',\n",
       "  's3://cc-download-orbis-global/res_paragraphs_input_llm/48af8983d5ff418c89b01bf5796ca507_3637.snappy.parquet',\n",
       "  's3://cc-download-orbis-global/res_paragraphs_input_llm/48af8983d5ff418c89b01bf5796ca507_3542.snappy.parquet',\n",
       "  's3://cc-download-orbis-global/res_paragraphs_input_llm/48af8983d5ff418c89b01bf5796ca507_546.snappy.parquet',\n",
       "  's3://cc-download-orbis-global/res_paragraphs_input_llm/48af8983d5ff418c89b01bf5796ca507_4590.snappy.parquet',\n",
       "  's3://cc-download-orbis-global/res_paragraphs_input_llm/48af8983d5ff418c89b01bf5796ca507_1827.snappy.parquet',\n",
       "  's3://cc-download-orbis-global/res_paragraphs_input_llm/48af8983d5ff418c89b01bf5796ca507_2966.snappy.parquet',\n",
       "  's3://cc-download-orbis-global/res_paragraphs_input_llm/48af8983d5ff418c89b01bf5796ca507_2766.snappy.parquet',\n",
       "  's3://cc-download-orbis-global/res_paragraphs_input_llm/48af8983d5ff418c89b01bf5796ca507_2220.snappy.parquet',\n",
       "  's3://cc-download-orbis-global/res_paragraphs_input_llm/48af8983d5ff418c89b01bf5796ca507_4812.snappy.parquet',\n",
       "  's3://cc-download-orbis-global/res_paragraphs_input_llm/48af8983d5ff418c89b01bf5796ca507_3111.snappy.parquet',\n",
       "  's3://cc-download-orbis-global/res_paragraphs_input_llm/48af8983d5ff418c89b01bf5796ca507_611.snappy.parquet',\n",
       "  's3://cc-download-orbis-global/res_paragraphs_input_llm/48af8983d5ff418c89b01bf5796ca507_579.snappy.parquet',\n",
       "  's3://cc-download-orbis-global/res_paragraphs_input_llm/48af8983d5ff418c89b01bf5796ca507_2221.snappy.parquet',\n",
       "  's3://cc-download-orbis-global/res_paragraphs_input_llm/48af8983d5ff418c89b01bf5796ca507_720.snappy.parquet',\n",
       "  's3://cc-download-orbis-global/res_paragraphs_input_llm/48af8983d5ff418c89b01bf5796ca507_613.snappy.parquet',\n",
       "  's3://cc-download-orbis-global/res_paragraphs_input_llm/48af8983d5ff418c89b01bf5796ca507_3891.snappy.parquet',\n",
       "  's3://cc-download-orbis-global/res_paragraphs_input_llm/48af8983d5ff418c89b01bf5796ca507_904.snappy.parquet',\n",
       "  's3://cc-download-orbis-global/res_paragraphs_input_llm/48af8983d5ff418c89b01bf5796ca507_1981.snappy.parquet',\n",
       "  's3://cc-download-orbis-global/res_paragraphs_input_llm/48af8983d5ff418c89b01bf5796ca507_3216.snappy.parquet',\n",
       "  's3://cc-download-orbis-global/res_paragraphs_input_llm/48af8983d5ff418c89b01bf5796ca507_2901.snappy.parquet',\n",
       "  's3://cc-download-orbis-global/res_paragraphs_input_llm/48af8983d5ff418c89b01bf5796ca507_2494.snappy.parquet',\n",
       "  's3://cc-download-orbis-global/res_paragraphs_input_llm/48af8983d5ff418c89b01bf5796ca507_3010.snappy.parquet',\n",
       "  's3://cc-download-orbis-global/res_paragraphs_input_llm/48af8983d5ff418c89b01bf5796ca507_4217.snappy.parquet',\n",
       "  's3://cc-download-orbis-global/res_paragraphs_input_llm/48af8983d5ff418c89b01bf5796ca507_2674.snappy.parquet',\n",
       "  's3://cc-download-orbis-global/res_paragraphs_input_llm/48af8983d5ff418c89b01bf5796ca507_2260.snappy.parquet',\n",
       "  's3://cc-download-orbis-global/res_paragraphs_input_llm/48af8983d5ff418c89b01bf5796ca507_1907.snappy.parquet',\n",
       "  's3://cc-download-orbis-global/res_paragraphs_input_llm/48af8983d5ff418c89b01bf5796ca507_31.snappy.parquet',\n",
       "  's3://cc-download-orbis-global/res_paragraphs_input_llm/48af8983d5ff418c89b01bf5796ca507_3925.snappy.parquet',\n",
       "  's3://cc-download-orbis-global/res_paragraphs_input_llm/48af8983d5ff418c89b01bf5796ca507_2476.snappy.parquet',\n",
       "  's3://cc-download-orbis-global/res_paragraphs_input_llm/48af8983d5ff418c89b01bf5796ca507_1832.snappy.parquet',\n",
       "  's3://cc-download-orbis-global/res_paragraphs_input_llm/48af8983d5ff418c89b01bf5796ca507_705.snappy.parquet',\n",
       "  's3://cc-download-orbis-global/res_paragraphs_input_llm/48af8983d5ff418c89b01bf5796ca507_4851.snappy.parquet',\n",
       "  's3://cc-download-orbis-global/res_paragraphs_input_llm/48af8983d5ff418c89b01bf5796ca507_2197.snappy.parquet',\n",
       "  's3://cc-download-orbis-global/res_paragraphs_input_llm/48af8983d5ff418c89b01bf5796ca507_713.snappy.parquet',\n",
       "  's3://cc-download-orbis-global/res_paragraphs_input_llm/48af8983d5ff418c89b01bf5796ca507_2724.snappy.parquet',\n",
       "  's3://cc-download-orbis-global/res_paragraphs_input_llm/48af8983d5ff418c89b01bf5796ca507_3417.snappy.parquet',\n",
       "  's3://cc-download-orbis-global/res_paragraphs_input_llm/48af8983d5ff418c89b01bf5796ca507_2055.snappy.parquet',\n",
       "  's3://cc-download-orbis-global/res_paragraphs_input_llm/48af8983d5ff418c89b01bf5796ca507_2668.snappy.parquet',\n",
       "  's3://cc-download-orbis-global/res_paragraphs_input_llm/48af8983d5ff418c89b01bf5796ca507_1448.snappy.parquet',\n",
       "  's3://cc-download-orbis-global/res_paragraphs_input_llm/48af8983d5ff418c89b01bf5796ca507_3198.snappy.parquet',\n",
       "  's3://cc-download-orbis-global/res_paragraphs_input_llm/48af8983d5ff418c89b01bf5796ca507_3040.snappy.parquet',\n",
       "  's3://cc-download-orbis-global/res_paragraphs_input_llm/48af8983d5ff418c89b01bf5796ca507_3837.snappy.parquet',\n",
       "  's3://cc-download-orbis-global/res_paragraphs_input_llm/48af8983d5ff418c89b01bf5796ca507_4241.snappy.parquet',\n",
       "  's3://cc-download-orbis-global/res_paragraphs_input_llm/48af8983d5ff418c89b01bf5796ca507_1059.snappy.parquet',\n",
       "  's3://cc-download-orbis-global/res_paragraphs_input_llm/48af8983d5ff418c89b01bf5796ca507_911.snappy.parquet',\n",
       "  's3://cc-download-orbis-global/res_paragraphs_input_llm/48af8983d5ff418c89b01bf5796ca507_35.snappy.parquet',\n",
       "  's3://cc-download-orbis-global/res_paragraphs_input_llm/48af8983d5ff418c89b01bf5796ca507_3745.snappy.parquet',\n",
       "  's3://cc-download-orbis-global/res_paragraphs_input_llm/48af8983d5ff418c89b01bf5796ca507_703.snappy.parquet',\n",
       "  's3://cc-download-orbis-global/res_paragraphs_input_llm/48af8983d5ff418c89b01bf5796ca507_4035.snappy.parquet',\n",
       "  's3://cc-download-orbis-global/res_paragraphs_input_llm/48af8983d5ff418c89b01bf5796ca507_1474.snappy.parquet',\n",
       "  's3://cc-download-orbis-global/res_paragraphs_input_llm/48af8983d5ff418c89b01bf5796ca507_4330.snappy.parquet',\n",
       "  's3://cc-download-orbis-global/res_paragraphs_input_llm/48af8983d5ff418c89b01bf5796ca507_3145.snappy.parquet',\n",
       "  's3://cc-download-orbis-global/res_paragraphs_input_llm/48af8983d5ff418c89b01bf5796ca507_314.snappy.parquet',\n",
       "  's3://cc-download-orbis-global/res_paragraphs_input_llm/48af8983d5ff418c89b01bf5796ca507_2676.snappy.parquet',\n",
       "  's3://cc-download-orbis-global/res_paragraphs_input_llm/48af8983d5ff418c89b01bf5796ca507_4133.snappy.parquet',\n",
       "  's3://cc-download-orbis-global/res_paragraphs_input_llm/48af8983d5ff418c89b01bf5796ca507_3401.snappy.parquet',\n",
       "  's3://cc-download-orbis-global/res_paragraphs_input_llm/48af8983d5ff418c89b01bf5796ca507_4889.snappy.parquet',\n",
       "  's3://cc-download-orbis-global/res_paragraphs_input_llm/48af8983d5ff418c89b01bf5796ca507_3559.snappy.parquet',\n",
       "  's3://cc-download-orbis-global/res_paragraphs_input_llm/48af8983d5ff418c89b01bf5796ca507_316.snappy.parquet',\n",
       "  's3://cc-download-orbis-global/res_paragraphs_input_llm/48af8983d5ff418c89b01bf5796ca507_4418.snappy.parquet',\n",
       "  's3://cc-download-orbis-global/res_paragraphs_input_llm/48af8983d5ff418c89b01bf5796ca507_315.snappy.parquet',\n",
       "  's3://cc-download-orbis-global/res_paragraphs_input_llm/48af8983d5ff418c89b01bf5796ca507_4490.snappy.parquet',\n",
       "  's3://cc-download-orbis-global/res_paragraphs_input_llm/48af8983d5ff418c89b01bf5796ca507_95.snappy.parquet',\n",
       "  's3://cc-download-orbis-global/res_paragraphs_input_llm/48af8983d5ff418c89b01bf5796ca507_3612.snappy.parquet',\n",
       "  's3://cc-download-orbis-global/res_paragraphs_input_llm/48af8983d5ff418c89b01bf5796ca507_2135.snappy.parquet',\n",
       "  's3://cc-download-orbis-global/res_paragraphs_input_llm/48af8983d5ff418c89b01bf5796ca507_1408.snappy.parquet',\n",
       "  's3://cc-download-orbis-global/res_paragraphs_input_llm/48af8983d5ff418c89b01bf5796ca507_317.snappy.parquet',\n",
       "  's3://cc-download-orbis-global/res_paragraphs_input_llm/48af8983d5ff418c89b01bf5796ca507_94.snappy.parquet',\n",
       "  's3://cc-download-orbis-global/res_paragraphs_input_llm/48af8983d5ff418c89b01bf5796ca507_313.snappy.parquet',\n",
       "  's3://cc-download-orbis-global/res_paragraphs_input_llm/48af8983d5ff418c89b01bf5796ca507_4715.snappy.parquet',\n",
       "  's3://cc-download-orbis-global/res_paragraphs_input_llm/48af8983d5ff418c89b01bf5796ca507_928.snappy.parquet',\n",
       "  's3://cc-download-orbis-global/res_paragraphs_input_llm/48af8983d5ff418c89b01bf5796ca507_3050.snappy.parquet',\n",
       "  's3://cc-download-orbis-global/res_paragraphs_input_llm/48af8983d5ff418c89b01bf5796ca507_2075.snappy.parquet',\n",
       "  's3://cc-download-orbis-global/res_paragraphs_input_llm/48af8983d5ff418c89b01bf5796ca507_321.snappy.parquet',\n",
       "  's3://cc-download-orbis-global/res_paragraphs_input_llm/48af8983d5ff418c89b01bf5796ca507_4968.snappy.parquet',\n",
       "  's3://cc-download-orbis-global/res_paragraphs_input_llm/48af8983d5ff418c89b01bf5796ca507_1036.snappy.parquet',\n",
       "  's3://cc-download-orbis-global/res_paragraphs_input_llm/48af8983d5ff418c89b01bf5796ca507_1395.snappy.parquet',\n",
       "  's3://cc-download-orbis-global/res_paragraphs_input_llm/48af8983d5ff418c89b01bf5796ca507_4294.snappy.parquet',\n",
       "  's3://cc-download-orbis-global/res_paragraphs_input_llm/48af8983d5ff418c89b01bf5796ca507_3212.snappy.parquet',\n",
       "  's3://cc-download-orbis-global/res_paragraphs_input_llm/48af8983d5ff418c89b01bf5796ca507_3647.snappy.parquet',\n",
       "  's3://cc-download-orbis-global/res_paragraphs_input_llm/48af8983d5ff418c89b01bf5796ca507_3517.snappy.parquet',\n",
       "  's3://cc-download-orbis-global/res_paragraphs_input_llm/48af8983d5ff418c89b01bf5796ca507_1673.snappy.parquet',\n",
       "  's3://cc-download-orbis-global/res_paragraphs_input_llm/48af8983d5ff418c89b01bf5796ca507_1750.snappy.parquet',\n",
       "  's3://cc-download-orbis-global/res_paragraphs_input_llm/48af8983d5ff418c89b01bf5796ca507_320.snappy.parquet',\n",
       "  's3://cc-download-orbis-global/res_paragraphs_input_llm/48af8983d5ff418c89b01bf5796ca507_2446.snappy.parquet',\n",
       "  's3://cc-download-orbis-global/res_paragraphs_input_llm/48af8983d5ff418c89b01bf5796ca507_319.snappy.parquet',\n",
       "  's3://cc-download-orbis-global/res_paragraphs_input_llm/48af8983d5ff418c89b01bf5796ca507_2897.snappy.parquet',\n",
       "  's3://cc-download-orbis-global/res_paragraphs_input_llm/48af8983d5ff418c89b01bf5796ca507_901.snappy.parquet',\n",
       "  's3://cc-download-orbis-global/res_paragraphs_input_llm/48af8983d5ff418c89b01bf5796ca507_3960.snappy.parquet',\n",
       "  's3://cc-download-orbis-global/res_paragraphs_input_llm/48af8983d5ff418c89b01bf5796ca507_77.snappy.parquet',\n",
       "  's3://cc-download-orbis-global/res_paragraphs_input_llm/48af8983d5ff418c89b01bf5796ca507_4780.snappy.parquet',\n",
       "  's3://cc-download-orbis-global/res_paragraphs_input_llm/48af8983d5ff418c89b01bf5796ca507_3489.snappy.parquet',\n",
       "  's3://cc-download-orbis-global/res_paragraphs_input_llm/48af8983d5ff418c89b01bf5796ca507_2502.snappy.parquet',\n",
       "  's3://cc-download-orbis-global/res_paragraphs_input_llm/48af8983d5ff418c89b01bf5796ca507_3508.snappy.parquet',\n",
       "  's3://cc-download-orbis-global/res_paragraphs_input_llm/48af8983d5ff418c89b01bf5796ca507_3424.snappy.parquet',\n",
       "  's3://cc-download-orbis-global/res_paragraphs_input_llm/48af8983d5ff418c89b01bf5796ca507_856.snappy.parquet',\n",
       "  's3://cc-download-orbis-global/res_paragraphs_input_llm/48af8983d5ff418c89b01bf5796ca507_1051.snappy.parquet',\n",
       "  's3://cc-download-orbis-global/res_paragraphs_input_llm/48af8983d5ff418c89b01bf5796ca507_3421.snappy.parquet',\n",
       "  's3://cc-download-orbis-global/res_paragraphs_input_llm/48af8983d5ff418c89b01bf5796ca507_1473.snappy.parquet',\n",
       "  's3://cc-download-orbis-global/res_paragraphs_input_llm/48af8983d5ff418c89b01bf5796ca507_1610.snappy.parquet',\n",
       "  's3://cc-download-orbis-global/res_paragraphs_input_llm/48af8983d5ff418c89b01bf5796ca507_4397.snappy.parquet',\n",
       "  's3://cc-download-orbis-global/res_paragraphs_input_llm/48af8983d5ff418c89b01bf5796ca507_1053.snappy.parquet',\n",
       "  's3://cc-download-orbis-global/res_paragraphs_input_llm/48af8983d5ff418c89b01bf5796ca507_548.snappy.parquet',\n",
       "  's3://cc-download-orbis-global/res_paragraphs_input_llm/48af8983d5ff418c89b01bf5796ca507_3175.snappy.parquet',\n",
       "  's3://cc-download-orbis-global/res_paragraphs_input_llm/48af8983d5ff418c89b01bf5796ca507_914.snappy.parquet',\n",
       "  's3://cc-download-orbis-global/res_paragraphs_input_llm/48af8983d5ff418c89b01bf5796ca507_2308.snappy.parquet',\n",
       "  's3://cc-download-orbis-global/res_paragraphs_input_llm/48af8983d5ff418c89b01bf5796ca507_898.snappy.parquet',\n",
       "  's3://cc-download-orbis-global/res_paragraphs_input_llm/48af8983d5ff418c89b01bf5796ca507_1058.snappy.parquet',\n",
       "  's3://cc-download-orbis-global/res_paragraphs_input_llm/48af8983d5ff418c89b01bf5796ca507_2963.snappy.parquet',\n",
       "  's3://cc-download-orbis-global/res_paragraphs_input_llm/48af8983d5ff418c89b01bf5796ca507_910.snappy.parquet',\n",
       "  's3://cc-download-orbis-global/res_paragraphs_input_llm/48af8983d5ff418c89b01bf5796ca507_3218.snappy.parquet',\n",
       "  's3://cc-download-orbis-global/res_paragraphs_input_llm/48af8983d5ff418c89b01bf5796ca507_4063.snappy.parquet',\n",
       "  's3://cc-download-orbis-global/res_paragraphs_input_llm/48af8983d5ff418c89b01bf5796ca507_333.snappy.parquet',\n",
       "  's3://cc-download-orbis-global/res_paragraphs_input_llm/48af8983d5ff418c89b01bf5796ca507_4684.snappy.parquet',\n",
       "  's3://cc-download-orbis-global/res_paragraphs_input_llm/48af8983d5ff418c89b01bf5796ca507_318.snappy.parquet',\n",
       "  's3://cc-download-orbis-global/res_paragraphs_input_llm/48af8983d5ff418c89b01bf5796ca507_3396.snappy.parquet',\n",
       "  ...],\n",
       " 'partitions_values': {}}"
      ]
     },
     "execution_count": 14,
     "metadata": {},
     "output_type": "execute_result"
    }
   ],
   "source": [
    "# wr.s3.to_parquet(paragraphs, 's3://cc-download-orbis-global/res_paragraphs_input_llm/', dataset=True, \n",
    "#                  max_rows_by_file=10000)"
   ]
  },
  {
   "cell_type": "markdown",
   "id": "f6f3f9eb",
   "metadata": {},
   "source": [
    "### Merge LLM results"
   ]
  },
  {
   "cell_type": "code",
   "execution_count": 5,
   "id": "2402f360",
   "metadata": {},
   "outputs": [],
   "source": [
    "res_batches = wr.s3.list_objects('s3://cc-download-orbis-global/llm_res_paragraphs_batches/')"
   ]
  },
  {
   "cell_type": "code",
   "execution_count": 6,
   "id": "bb0d9278",
   "metadata": {},
   "outputs": [
    {
     "name": "stdout",
     "output_type": "stream",
     "text": [
      "CPU times: user 5min 6s, sys: 1min 38s, total: 6min 44s\n",
      "Wall time: 4min 27s\n"
     ]
    }
   ],
   "source": [
    "%%time\n",
    "res_dask = dd.read_parquet(res_batches)\n",
    "res = res_dask.compute()\n",
    "del res_dask"
   ]
  },
  {
   "cell_type": "code",
   "execution_count": 7,
   "id": "5b9413c3",
   "metadata": {},
   "outputs": [],
   "source": [
    "res.rename(columns={'paragraphs': 'keyword_paragraphs'}, inplace=True)"
   ]
  },
  {
   "cell_type": "code",
   "execution_count": 8,
   "id": "7d9b318a",
   "metadata": {},
   "outputs": [],
   "source": [
    "df = df.explode('keyword_paragraphs')"
   ]
  },
  {
   "cell_type": "code",
   "execution_count": 9,
   "id": "aff54789",
   "metadata": {},
   "outputs": [],
   "source": [
    "df = df.merge(res, on='keyword_paragraphs', how='left')\n",
    "del res"
   ]
  },
  {
   "cell_type": "code",
   "execution_count": 20,
   "id": "d2b91ed5",
   "metadata": {
    "scrolled": true
   },
   "outputs": [
    {
     "data": {
      "text/plain": [
       "affected\n",
       "0.0    0.208841\n",
       "1.0    0.316107\n",
       "2.0    0.188484\n",
       "3.0    0.286568\n",
       "Name: proportion, dtype: float64"
      ]
     },
     "execution_count": 20,
     "metadata": {},
     "output_type": "execute_result"
    }
   ],
   "source": [
    "df.groupby('url_host_registered_domain').affected.max().value_counts(normalize=True).sort_index() # of all covid mentioning firms"
   ]
  },
  {
   "cell_type": "code",
   "execution_count": 23,
   "id": "b617b867",
   "metadata": {
    "scrolled": true
   },
   "outputs": [
    {
     "data": {
      "text/plain": [
       "Index                         1.280000e-07\n",
       "url_host_registered_domain    4.520135e+01\n",
       "crawl                         4.481736e+01\n",
       "keyword_paragraphs            2.004863e+02\n",
       "affected                      4.979707e+00\n",
       "affectedness_category         3.311518e+01\n",
       "tags                          3.311518e+01\n",
       "tags_combined                 3.311518e+01\n",
       "dtype: float64"
      ]
     },
     "execution_count": 23,
     "metadata": {},
     "output_type": "execute_result"
    }
   ],
   "source": [
    "# memory_usage = df.memory_usage(deep=True)\n",
    "# memory_usage.div(1e9).round(3)"
   ]
  },
  {
   "cell_type": "code",
   "execution_count": null,
   "id": "d273da45",
   "metadata": {},
   "outputs": [],
   "source": [
    "df[(df.keyword_paragraphs.str.len() > 10) & df.affected.isna()]"
   ]
  },
  {
   "cell_type": "markdown",
   "id": "57ffe55a",
   "metadata": {},
   "source": [
    "#### Paragraph expiry"
   ]
  },
  {
   "cell_type": "code",
   "execution_count": 10,
   "id": "6342b670",
   "metadata": {},
   "outputs": [],
   "source": [
    "fetch_times = pd.read_csv('crawl_fetch_times.csv', parse_dates=['fetch_time'])\n",
    "fetch_times.fetch_time = fetch_time.fetch_time.astype('category')\n",
    "df = df.merge(fetch_times, on='crawl')\n",
    "df['month_diff'] = df.groupby(['url_host_registered_domain', 'keyword_paragraphs'])['fetch_time'].diff().dt.days // 30\n",
    "df['months_unchanged'] = df.groupby(['url_host_registered_domain', 'keyword_paragraphs'])['month_diff'].cumsum().fillna(0)"
   ]
  },
  {
   "cell_type": "code",
   "execution_count": null,
   "id": "74a120b1",
   "metadata": {},
   "outputs": [],
   "source": [
    "df['fetch_time'] = df['fetch_time'].astype('category')\n",
    "df['fetch_time'] = df['fetch_time'].cat.set_categories(fetch_times.fetch_time, ordered=True)"
   ]
  },
  {
   "cell_type": "code",
   "execution_count": 11,
   "id": "7bfc7a68",
   "metadata": {},
   "outputs": [],
   "source": [
    "df['affected'] = df.affected*(df.months_unchanged<12)"
   ]
  },
  {
   "cell_type": "code",
   "execution_count": 12,
   "id": "ae1b2ac8",
   "metadata": {},
   "outputs": [],
   "source": [
    "# set other indicators to 0 when affected==0\n",
    "for col in ['affectedness_category', 'tags', 'tags_combined']:\n",
    "    df.loc[df.affected==0, col] = pd.NA"
   ]
  },
  {
   "cell_type": "code",
   "execution_count": 13,
   "id": "3caeeb0c",
   "metadata": {},
   "outputs": [],
   "source": [
    "df.drop(columns=['month_diff', 'months_unchanged'], inplace=True)"
   ]
  },
  {
   "cell_type": "markdown",
   "id": "daac8526",
   "metadata": {},
   "source": [
    "#### Format indicators"
   ]
  },
  {
   "cell_type": "code",
   "execution_count": 14,
   "id": "241ecc02",
   "metadata": {},
   "outputs": [],
   "source": [
    "df['covid_mention'] = df.keyword_paragraphs.astype(str).str.len() > 10"
   ]
  },
  {
   "cell_type": "code",
   "execution_count": 15,
   "id": "2cb1f99a",
   "metadata": {},
   "outputs": [],
   "source": [
    "from collections.abc import Iterable"
   ]
  },
  {
   "cell_type": "code",
   "execution_count": 16,
   "id": "35ce95cc",
   "metadata": {
    "scrolled": false
   },
   "outputs": [
    {
     "data": {
      "text/plain": [
       "tags\n",
       "                                     6687\n",
       "customer hygiene measures            3318\n",
       "closure                              3199\n",
       " supply chain issues                 2300\n",
       "closure of facilities                1398\n",
       "                                     ... \n",
       " regular contact with authorities       1\n",
       "measures to ensure operations           1\n",
       " limited contact                        1\n",
       " employees positive test                1\n",
       "cases of SARS-CoV-2                     1\n",
       "Name: count, Length: 33522, dtype: int64"
      ]
     },
     "execution_count": 16,
     "metadata": {},
     "output_type": "execute_result"
    }
   ],
   "source": [
    "df.tags.tail(1000000).explode().value_counts().head(50)"
   ]
  },
  {
   "cell_type": "code",
   "execution_count": 33,
   "id": "54b14d3b",
   "metadata": {},
   "outputs": [
    {
     "data": {
      "application/vnd.jupyter.widget-view+json": {
       "model_id": "b687388c19494610b52dea8aa95e5fb6",
       "version_major": 2,
       "version_minor": 0
      },
      "text/plain": [
       "Pandas Apply:   0%|          | 0/622463315 [00:00<?, ?it/s]"
      ]
     },
     "metadata": {},
     "output_type": "display_data"
    }
   ],
   "source": [
    "# from collections.abc import Iterable\n",
    "# for col in ['tags', 'tags_combined', 'affectedness_category']:\n",
    "#     df[col] = df[col].swifter.apply(lambda d: d if isinstance(d, Iterable) else [])"
   ]
  },
  {
   "cell_type": "code",
   "execution_count": 40,
   "id": "d6f0d9f8",
   "metadata": {},
   "outputs": [],
   "source": [
    "df_cat = df.reset_index()[['index', 'affectedness_category']].explode('affectedness_category')\n",
    "df_cat = df_cat[df_cat.affectedness_category.str.strip().isin(['production', 'demand', 'supply'])].copy()\n",
    "df_cat[['production_affected', 'demand_affected', 'supply_affected']] = pd.get_dummies(df_cat.affectedness_category)\n",
    "df = df.join(df_cat.groupby('index')[['production_affected', 'demand_affected', 'supply_affected']].max(), how='left')"
   ]
  },
  {
   "cell_type": "code",
   "execution_count": null,
   "id": "9af7c65d",
   "metadata": {},
   "outputs": [],
   "source": [
    "tags = ['hygiene measures', 'remote work', 'supply chain issues', 'closure', 'financial impact', 'travel restrictions']\n",
    "df_tag = df.reset_index()[['index', 'tags_combined']].explode('tags_combined')\n",
    "df_tag = df_tag[df_tag.tags_combined.str.strip().isin(tags)].copy()\n",
    "df_tag[tags] = pd.get_dummies(df_tag.tags_combined)\n",
    "df = df.join(df_tag.groupby('index')[tags].max(), how='left')"
   ]
  },
  {
   "cell_type": "code",
   "execution_count": 69,
   "id": "4450701a",
   "metadata": {},
   "outputs": [],
   "source": [
    "df.columns = [x.replace(' ', '_') for x in df.columns]\n",
    "tags = [x.replace(' ', '_') for x in tags]"
   ]
  },
  {
   "cell_type": "code",
   "execution_count": 75,
   "id": "da1e5c8f",
   "metadata": {},
   "outputs": [],
   "source": [
    "test = df.production_affected.copy()"
   ]
  },
  {
   "cell_type": "code",
   "execution_count": 83,
   "id": "7be1ea94",
   "metadata": {},
   "outputs": [],
   "source": [
    "float_cols = ['covid_mention', 'affected', 'production_affected', 'demand_affected', 'supply_affected'] + tags\n",
    "df[float_cols] = df[float_cols].astype(np.float16)"
   ]
  },
  {
   "cell_type": "code",
   "execution_count": 131,
   "id": "cbaff109",
   "metadata": {},
   "outputs": [],
   "source": [
    "df.loc[df.affected==0, ['production_affected', 'demand_affected', 'supply_affected'] + tags] = 0"
   ]
  },
  {
   "cell_type": "markdown",
   "id": "de303259",
   "metadata": {},
   "source": [
    "#### Aggregate by firm and crawl date"
   ]
  },
  {
   "cell_type": "code",
   "execution_count": 85,
   "id": "f4aac019",
   "metadata": {},
   "outputs": [],
   "source": [
    "df['date'] = df.fetch_time.dt.date"
   ]
  },
  {
   "cell_type": "code",
   "execution_count": 87,
   "id": "7edf1434",
   "metadata": {},
   "outputs": [],
   "source": [
    "df.date = df.date.astype('category')"
   ]
  },
  {
   "cell_type": "code",
   "execution_count": 91,
   "id": "e9134351",
   "metadata": {},
   "outputs": [],
   "source": [
    "agg_dict = {'affected': 'max', 'covid_mention': 'max'}\n",
    "affectedness_categories = ['production_affected', 'demand_affected', 'supply_affected']\n",
    "agg_dict.update({cat: 'max' for cat in affectedness_categories})\n",
    "agg_dict.update({tag: 'max' for tag in tags})"
   ]
  },
  {
   "cell_type": "code",
   "execution_count": 92,
   "id": "6c216f27",
   "metadata": {},
   "outputs": [],
   "source": [
    "df_grouped = df.groupby(['url_host_registered_domain', 'date']).agg(agg_dict)"
   ]
  },
  {
   "cell_type": "code",
   "execution_count": 93,
   "id": "fbb0a74b",
   "metadata": {},
   "outputs": [],
   "source": [
    "df_grouped['covid_mention'] = df_grouped['covid_mention'] > 0"
   ]
  },
  {
   "cell_type": "code",
   "execution_count": 94,
   "id": "76a304c1",
   "metadata": {
    "scrolled": true
   },
   "outputs": [
    {
     "data": {
      "text/plain": [
       "covid_mention\n",
       "False    0.737393\n",
       "True     0.262607\n",
       "Name: proportion, dtype: float64"
      ]
     },
     "execution_count": 94,
     "metadata": {},
     "output_type": "execute_result"
    }
   ],
   "source": [
    "df_grouped.groupby(level=0).covid_mention.max().value_counts(normalize=True, dropna=False).sort_index()"
   ]
  },
  {
   "cell_type": "code",
   "execution_count": 100,
   "id": "fb7fe7d7",
   "metadata": {},
   "outputs": [],
   "source": [
    "df_grouped[float_cols] = df_grouped[float_cols].fillna(0)"
   ]
  },
  {
   "cell_type": "code",
   "execution_count": 95,
   "id": "387dd5d8",
   "metadata": {},
   "outputs": [],
   "source": [
    "# set affected and other indicators to 0 for firms that were in CC but didn't mention Covid\n",
    "# df_grouped.loc[df_grouped.keyword_paragraphs==0, 'affected'] = 0"
   ]
  },
  {
   "cell_type": "code",
   "execution_count": 96,
   "id": "861f004a",
   "metadata": {
    "scrolled": false
   },
   "outputs": [
    {
     "data": {
      "text/plain": [
       "Index                  0.886\n",
       "affected               0.246\n",
       "covid_mention          0.123\n",
       "production_affected    0.246\n",
       "demand_affected        0.246\n",
       "supply_affected        0.246\n",
       "hygiene_measures       0.246\n",
       "remote_work            0.246\n",
       "supply_chain_issues    0.246\n",
       "closure                0.246\n",
       "financial_impact       0.246\n",
       "travel_restrictions    0.246\n",
       "dtype: float64"
      ]
     },
     "execution_count": 96,
     "metadata": {},
     "output_type": "execute_result"
    }
   ],
   "source": [
    "memory_usage_grouped = df_grouped.memory_usage(deep=True)\n",
    "memory_usage_grouped.div(1e9).round(3)"
   ]
  },
  {
   "cell_type": "code",
   "execution_count": 135,
   "id": "08315be1",
   "metadata": {},
   "outputs": [],
   "source": [
    "df_grouped.loc[df_grouped.affected==0, ['production_affected', 'demand_affected', 'supply_affected'] + tags] = 0"
   ]
  },
  {
   "cell_type": "code",
   "execution_count": 137,
   "id": "d5517517",
   "metadata": {
    "scrolled": false
   },
   "outputs": [
    {
     "data": {
      "text/plain": [
       "{'paths': ['s3://cc-download-orbis-global/res_llm_consolidated/res_llm_consolidated.parquet'],\n",
       " 'partitions_values': {}}"
      ]
     },
     "execution_count": 137,
     "metadata": {},
     "output_type": "execute_result"
    }
   ],
   "source": [
    "wr.s3.to_parquet(df_grouped.reset_index(), \n",
    "                 's3://cc-download-orbis-global/res_llm_consolidated/res_llm_consolidated.parquet',\n",
    "                 index=False)"
   ]
  },
  {
   "cell_type": "markdown",
   "id": "4b8dcee7",
   "metadata": {},
   "source": [
    "#### Merge with orbis"
   ]
  },
  {
   "cell_type": "code",
   "execution_count": null,
   "id": "b4861032",
   "metadata": {},
   "outputs": [],
   "source": [
    "query = 'SELECT * FROM orbis_global_min_5_empl_has_website_merged_url_list where length(nace_rev_2_core_code_4_digits) > 3'\n",
    "orbis = wr.athena.read_sql_query(sql=query, database='ccindex')\n",
    "orbis['country'] = orbis['country'].astype('category')\n",
    "orbis['region_in_country'] = orbis['region_in_country'].astype('category')\n",
    "orbis['city'] = orbis['city'].astype('category')\n",
    "orbis['nace_2_digit'] = orbis['nace_rev_2_core_code_4_digits'].astype(str).str[:2].str.strip('0').astype('category')\n",
    "orbis['nace_section'] = orbis.nace_2_digit.map(nace_sections_dict).astype('category')\n",
    "orbis['nace_2_digit'] = orbis['nace_2_digit'].map(nace.set_index('nace_2_digit')['nace_description']).astype('category')\n",
    "orbis.rename(columns={'websiteaddress': 'url_host_registered_domain'}, inplace=True)\n",
    "\n",
    "# orbis.memory_usage(deep=True) / 1e6\n",
    "\n",
    "query = 'SELECT * FROM orbis_global_min_5_empl_has_website_merged_url_list_dynamic where number_of_employees > 0 or operating_revenue_turnover > 0'\n",
    "orbis_dynamic = wr.athena.read_sql_query(sql=query, database='ccindex')\n",
    "\n",
    "# orbis_dynamic.memory_usage(deep=True) / 1e6\n",
    "\n",
    "# for each domain keep only bvdids w highest number of employees and highest turnover and prefer available nace code\n",
    "keep_bvdids = orbis_dynamic.merge(orbis[['bvdid', 'nace_2_digit', 'url_host_registered_domain']], on='bvdid', how='left').sort_values(['number_of_employees', 'operating_revenue_turnover', 'nace_2_digit'], ascending=False).drop_duplicates(subset=['url_host_registered_domain'], keep='first').bvdid\n",
    "orbis = orbis[orbis.bvdid.isin(keep_bvdids)].copy(deep=True)\n",
    "orbis.drop_duplicates(subset=['url_host_registered_domain'], inplace=True, keep='first')\n",
    "\n",
    "# keep only orbis firms that are in CC\n",
    "ccurls = df.index.get_level_values(0).unique().to_list()\n",
    "orbis = orbis[orbis.url_host_registered_domain.isin(ccurls)].copy(deep=True)\n",
    "orbis_dynamic = orbis_dynamic[orbis_dynamic.bvdid.isin(orbis.bvdid)].copy(deep=True)\n",
    "print(len(orbis))"
   ]
  },
  {
   "cell_type": "code",
   "execution_count": null,
   "id": "bb3628e7",
   "metadata": {},
   "outputs": [],
   "source": [
    "df_grouped_orbis = df_grouped.join(orbis.set_index('url_host_registered_domain'), how='left')"
   ]
  },
  {
   "cell_type": "code",
   "execution_count": null,
   "id": "0ba3d52a",
   "metadata": {},
   "outputs": [],
   "source": []
  },
  {
   "cell_type": "code",
   "execution_count": null,
   "id": "d6f77d6b",
   "metadata": {},
   "outputs": [],
   "source": []
  },
  {
   "cell_type": "code",
   "execution_count": null,
   "id": "82f8cfb3",
   "metadata": {},
   "outputs": [],
   "source": []
  },
  {
   "cell_type": "code",
   "execution_count": null,
   "id": "c5eb3e7e",
   "metadata": {},
   "outputs": [],
   "source": []
  },
  {
   "cell_type": "code",
   "execution_count": null,
   "id": "fc48101b",
   "metadata": {},
   "outputs": [],
   "source": []
  },
  {
   "cell_type": "code",
   "execution_count": null,
   "id": "8864ac15",
   "metadata": {},
   "outputs": [],
   "source": []
  },
  {
   "cell_type": "markdown",
   "id": "7850d7af",
   "metadata": {},
   "source": [
    "#### Add cc_data_available, frequency of updates variables"
   ]
  },
  {
   "cell_type": "code",
   "execution_count": null,
   "id": "413dc303",
   "metadata": {},
   "outputs": [],
   "source": [
    "%%time\n",
    "df = wr.s3.read_parquet('s3://cc-download-orbis-global/res/',\n",
    "                        ray_args={'bulk_read': True}, schema=schema)"
   ]
  },
  {
   "cell_type": "code",
   "execution_count": 8,
   "id": "fd19b63f",
   "metadata": {},
   "outputs": [],
   "source": [
    "fetch_times = pd.read_csv('crawl_fetch_times.csv', parse_dates=['fetch_time'])\n",
    "df = df.drop(columns=['fetch_time']).merge(fetch_times, on='crawl')\n",
    "df['date'] = df.fetch_time.dt.date\n",
    "df.date = df.date.astype('category')\n",
    "df.drop(columns=['fetch_time'], inplace=True)"
   ]
  },
  {
   "cell_type": "code",
   "execution_count": 10,
   "id": "1d07a6d5",
   "metadata": {},
   "outputs": [],
   "source": []
  },
  {
   "cell_type": "code",
   "execution_count": 11,
   "id": "720d6e48",
   "metadata": {},
   "outputs": [],
   "source": [
    "df['cc_data_available'] = True"
   ]
  },
  {
   "cell_type": "code",
   "execution_count": 12,
   "id": "0044bae9",
   "metadata": {},
   "outputs": [],
   "source": [
    "df_grouped = wr.s3.read_parquet('s3://cc-download-orbis-global/res_llm_consolidated/res_llm_consolidated.parquet')"
   ]
  },
  {
   "cell_type": "code",
   "execution_count": 15,
   "id": "d018d175",
   "metadata": {},
   "outputs": [],
   "source": [
    "df_fin = df_grouped.merge(df[['url_host_registered_domain', 'date', 'cc_data_available']].drop_duplicates(), \n",
    "                          how='left',\n",
    "                          on=['url_host_registered_domain', 'date'])"
   ]
  },
  {
   "cell_type": "code",
   "execution_count": 18,
   "id": "712f30c6",
   "metadata": {},
   "outputs": [],
   "source": [
    "df_fin.cc_data_available = df_fin.cc_data_available.fillna(False)"
   ]
  },
  {
   "cell_type": "code",
   "execution_count": 21,
   "id": "0512612b",
   "metadata": {},
   "outputs": [],
   "source": [
    "tags = ['hygiene measures', 'remote work', 'supply chain issues', 'closure', 'financial impact', 'travel restrictions']\n",
    "tags = [x.replace(' ', '_') for x in tags]\n",
    "float_cols = ['covid_mention', 'affected', 'production_affected', 'demand_affected', 'supply_affected'] + tags"
   ]
  },
  {
   "cell_type": "code",
   "execution_count": 23,
   "id": "550ef6fb",
   "metadata": {},
   "outputs": [],
   "source": [
    "df_fin.loc[~df_fin.cc_data_available, float_cols] = np.nan"
   ]
  },
  {
   "cell_type": "code",
   "execution_count": 26,
   "id": "0f39e84a",
   "metadata": {
    "scrolled": true
   },
   "outputs": [
    {
     "data": {
      "text/plain": [
       "affected\n",
       "0.0    0.792301\n",
       "1.0    0.082986\n",
       "3.0    0.075231\n",
       "2.0    0.049482\n",
       "Name: proportion, dtype: float64"
      ]
     },
     "execution_count": 26,
     "metadata": {},
     "output_type": "execute_result"
    }
   ],
   "source": [
    "df_fin.groupby('url_host_registered_domain').affected.max().value_counts(normalize=True)"
   ]
  },
  {
   "cell_type": "code",
   "execution_count": 27,
   "id": "2cfcbe1b",
   "metadata": {},
   "outputs": [
    {
     "data": {
      "text/plain": [
       "covid_mention\n",
       "False    0.737393\n",
       "True     0.262607\n",
       "Name: proportion, dtype: Float64"
      ]
     },
     "execution_count": 27,
     "metadata": {},
     "output_type": "execute_result"
    }
   ],
   "source": [
    "df_fin.groupby('url_host_registered_domain').covid_mention.max().value_counts(normalize=True)"
   ]
  },
  {
   "cell_type": "code",
   "execution_count": 29,
   "id": "64fe19d0",
   "metadata": {},
   "outputs": [
    {
     "data": {
      "text/plain": [
       "{'paths': ['s3://cc-download-orbis-global/res_llm_consolidated/res_llm_consolidated_full.parquet'],\n",
       " 'partitions_values': {}}"
      ]
     },
     "execution_count": 29,
     "metadata": {},
     "output_type": "execute_result"
    }
   ],
   "source": [
    "wr.s3.to_parquet(df_fin, \n",
    "                 's3://cc-download-orbis-global/res_llm_consolidated/res_llm_consolidated_full.parquet',\n",
    "                 index=False)"
   ]
  },
  {
   "cell_type": "markdown",
   "id": "067dbfb6",
   "metadata": {},
   "source": [
    "#### Heartbeat variable based on content digest"
   ]
  },
  {
   "cell_type": "code",
   "execution_count": 5,
   "id": "c7396de1",
   "metadata": {},
   "outputs": [],
   "source": [
    "relevant_cols = ['url_host_registered_domain', 'url', 'crawl', 'content_digest']\n",
    "cdh = df[relevant_cols].groupby(['url_host_registered_domain', 'url']).nunique()"
   ]
  },
  {
   "cell_type": "code",
   "execution_count": 6,
   "id": "220daa90",
   "metadata": {},
   "outputs": [],
   "source": [
    "# for each url, how often does content change as a share of total crawls? (subtract one to get number of changes instead of number of unique)\n",
    "cdh['cd_change_share_per_url'] = cdh.content_digest.sub(1).div(cdh.crawl.sub(1))"
   ]
  },
  {
   "cell_type": "code",
   "execution_count": 9,
   "id": "71b90e06",
   "metadata": {},
   "outputs": [],
   "source": [
    "# for each domain, mean of changes over all urls\n",
    "content_digest_heartbeat = cdh.groupby('url_host_registered_domain').cd_change_share_per_url.mean()"
   ]
  },
  {
   "cell_type": "code",
   "execution_count": 15,
   "id": "149976df",
   "metadata": {},
   "outputs": [],
   "source": [
    "content_digest_heartbeat = content_digest_heartbeat.astype(np.float16)"
   ]
  },
  {
   "cell_type": "code",
   "execution_count": 26,
   "id": "ffead776",
   "metadata": {},
   "outputs": [],
   "source": [
    "content_digest_heartbeat = content_digest_heartbeat.to_frame(name='content_digest_heartbeat')"
   ]
  },
  {
   "cell_type": "code",
   "execution_count": 27,
   "id": "0a51c273",
   "metadata": {},
   "outputs": [],
   "source": [
    "content_digest_heartbeat.to_parquet('s3://cc-download-orbis-global/res_llm_consolidated/res_llm_consolidated_content_digest_heartbeat.parquet')"
   ]
  }
 ],
 "metadata": {
  "kernelspec": {
   "display_name": "conda_python3",
   "language": "python",
   "name": "conda_python3"
  },
  "language_info": {
   "codemirror_mode": {
    "name": "ipython",
    "version": 3
   },
   "file_extension": ".py",
   "mimetype": "text/x-python",
   "name": "python",
   "nbconvert_exporter": "python",
   "pygments_lexer": "ipython3",
   "version": "3.10.14"
  }
 },
 "nbformat": 4,
 "nbformat_minor": 5
}
